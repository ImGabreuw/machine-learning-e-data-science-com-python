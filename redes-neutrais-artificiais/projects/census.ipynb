{
 "cells": [
  {
   "cell_type": "code",
   "execution_count": 1,
   "metadata": {},
   "outputs": [],
   "source": [
    "!pip install --upgrade nbformat -q\n",
    "!pip install plotly -q\n",
    "!pip install pandas -q\n",
    "!pip install numpy -q\n",
    "!pip install seaborn -q\n",
    "!pip install matplotlib -q\n",
    "!pip install scikit-learn -q\n",
    "!pip install yellowbrick -q"
   ]
  },
  {
   "cell_type": "code",
   "execution_count": 2,
   "metadata": {},
   "outputs": [],
   "source": [
    "from sklearn.neural_network import MLPClassifier\n",
    "from sklearn.metrics import accuracy_score, classification_report\n",
    "from yellowbrick.classifier import ConfusionMatrix\n",
    "import pickle"
   ]
  },
  {
   "cell_type": "code",
   "execution_count": 3,
   "metadata": {},
   "outputs": [],
   "source": [
    "with open(\"../../assets/census.pkl\", \"rb\") as file:\n",
    "    X_census_train, y_census_train, X_census_test, y_census_test = pickle.load(file)"
   ]
  },
  {
   "cell_type": "code",
   "execution_count": 4,
   "metadata": {},
   "outputs": [
    {
     "data": {
      "text/plain": [
       "((27676, 108), (27676,))"
      ]
     },
     "execution_count": 4,
     "metadata": {},
     "output_type": "execute_result"
    }
   ],
   "source": [
    "X_census_train.shape, y_census_train.shape"
   ]
  },
  {
   "cell_type": "code",
   "execution_count": 5,
   "metadata": {},
   "outputs": [
    {
     "data": {
      "text/plain": [
       "((4885, 108), (4885,))"
      ]
     },
     "execution_count": 5,
     "metadata": {},
     "output_type": "execute_result"
    }
   ],
   "source": [
    "X_census_test.shape, y_census_test.shape"
   ]
  },
  {
   "cell_type": "code",
   "execution_count": 6,
   "metadata": {},
   "outputs": [
    {
     "name": "stdout",
     "output_type": "stream",
     "text": [
      "Iteration 1, loss = 0.39164916\n",
      "Iteration 2, loss = 0.32540985\n",
      "Iteration 3, loss = 0.31396880\n",
      "Iteration 4, loss = 0.30672469\n",
      "Iteration 5, loss = 0.30262959\n",
      "Iteration 6, loss = 0.29864534\n",
      "Iteration 7, loss = 0.29517227\n",
      "Iteration 8, loss = 0.29282526\n",
      "Iteration 9, loss = 0.28950312\n",
      "Iteration 10, loss = 0.28731639\n",
      "Iteration 11, loss = 0.28722539\n",
      "Iteration 12, loss = 0.28359676\n",
      "Iteration 13, loss = 0.28189969\n",
      "Iteration 14, loss = 0.27927799\n",
      "Iteration 15, loss = 0.27786659\n",
      "Iteration 16, loss = 0.27556487\n",
      "Iteration 17, loss = 0.27359385\n",
      "Iteration 18, loss = 0.27191953\n",
      "Iteration 19, loss = 0.27017640\n",
      "Iteration 20, loss = 0.26777024\n",
      "Iteration 21, loss = 0.26596815\n",
      "Iteration 22, loss = 0.26396066\n",
      "Iteration 23, loss = 0.26273820\n",
      "Iteration 24, loss = 0.26090825\n",
      "Iteration 25, loss = 0.25995238\n",
      "Iteration 26, loss = 0.25820997\n",
      "Iteration 27, loss = 0.25673116\n",
      "Iteration 28, loss = 0.25677016\n",
      "Iteration 29, loss = 0.25444440\n",
      "Iteration 30, loss = 0.25224229\n",
      "Iteration 31, loss = 0.25094923\n",
      "Iteration 32, loss = 0.24997154\n",
      "Iteration 33, loss = 0.24837420\n",
      "Iteration 34, loss = 0.24599351\n",
      "Iteration 35, loss = 0.24549107\n",
      "Iteration 36, loss = 0.24462083\n",
      "Iteration 37, loss = 0.24352147\n",
      "Iteration 38, loss = 0.24180324\n",
      "Iteration 39, loss = 0.24091290\n",
      "Iteration 40, loss = 0.24009196\n",
      "Iteration 41, loss = 0.23874527\n",
      "Iteration 42, loss = 0.23739054\n",
      "Iteration 43, loss = 0.23546363\n",
      "Iteration 44, loss = 0.23554695\n",
      "Iteration 45, loss = 0.23432549\n",
      "Iteration 46, loss = 0.23288171\n",
      "Iteration 47, loss = 0.23157204\n",
      "Iteration 48, loss = 0.23136585\n",
      "Iteration 49, loss = 0.22945693\n",
      "Iteration 50, loss = 0.22903515\n",
      "Iteration 51, loss = 0.22813277\n",
      "Iteration 52, loss = 0.22720523\n",
      "Iteration 53, loss = 0.22593211\n",
      "Iteration 54, loss = 0.22553032\n",
      "Iteration 55, loss = 0.22403330\n",
      "Iteration 56, loss = 0.22479757\n",
      "Iteration 57, loss = 0.22257611\n",
      "Iteration 58, loss = 0.22175852\n",
      "Iteration 59, loss = 0.22170350\n",
      "Iteration 60, loss = 0.22011637\n",
      "Iteration 61, loss = 0.21895475\n",
      "Iteration 62, loss = 0.21808831\n",
      "Iteration 63, loss = 0.21687310\n",
      "Iteration 64, loss = 0.21789771\n",
      "Iteration 65, loss = 0.21689598\n",
      "Iteration 66, loss = 0.21597734\n",
      "Iteration 67, loss = 0.21557168\n",
      "Iteration 68, loss = 0.21465491\n",
      "Iteration 69, loss = 0.21250579\n",
      "Iteration 70, loss = 0.21227140\n",
      "Iteration 71, loss = 0.21177919\n",
      "Iteration 72, loss = 0.21033783\n",
      "Iteration 73, loss = 0.20983432\n",
      "Iteration 74, loss = 0.20916216\n",
      "Iteration 75, loss = 0.20842342\n",
      "Iteration 76, loss = 0.20776939\n",
      "Iteration 77, loss = 0.20787415\n",
      "Iteration 78, loss = 0.20715845\n",
      "Iteration 79, loss = 0.20567914\n",
      "Iteration 80, loss = 0.20636541\n",
      "Iteration 81, loss = 0.20636559\n",
      "Iteration 82, loss = 0.20440895\n",
      "Iteration 83, loss = 0.20336505\n",
      "Iteration 84, loss = 0.20400397\n",
      "Iteration 85, loss = 0.20232252\n",
      "Iteration 86, loss = 0.20117571\n",
      "Iteration 87, loss = 0.20102745\n",
      "Iteration 88, loss = 0.19975623\n",
      "Iteration 89, loss = 0.20054561\n",
      "Iteration 90, loss = 0.19935727\n",
      "Iteration 91, loss = 0.19932729\n",
      "Iteration 92, loss = 0.19796664\n",
      "Iteration 93, loss = 0.19926178\n",
      "Iteration 94, loss = 0.19692524\n",
      "Iteration 95, loss = 0.19695858\n",
      "Iteration 96, loss = 0.19587900\n",
      "Iteration 97, loss = 0.19612428\n",
      "Iteration 98, loss = 0.19631777\n",
      "Iteration 99, loss = 0.19503540\n",
      "Iteration 100, loss = 0.19443741\n",
      "Iteration 101, loss = 0.19420639\n",
      "Iteration 102, loss = 0.19323490\n",
      "Iteration 103, loss = 0.19296967\n",
      "Iteration 104, loss = 0.19195683\n",
      "Iteration 105, loss = 0.19069944\n",
      "Iteration 106, loss = 0.19152656\n",
      "Iteration 107, loss = 0.19132402\n",
      "Iteration 108, loss = 0.19104117\n",
      "Iteration 109, loss = 0.19062586\n",
      "Iteration 110, loss = 0.18882510\n",
      "Iteration 111, loss = 0.18958550\n",
      "Iteration 112, loss = 0.18973776\n",
      "Iteration 113, loss = 0.18816209\n",
      "Iteration 114, loss = 0.18807597\n",
      "Iteration 115, loss = 0.18584213\n",
      "Iteration 116, loss = 0.18649775\n",
      "Iteration 117, loss = 0.18603881\n",
      "Iteration 118, loss = 0.18601451\n",
      "Iteration 119, loss = 0.18435651\n",
      "Iteration 120, loss = 0.18480569\n",
      "Iteration 121, loss = 0.18478821\n",
      "Iteration 122, loss = 0.18292923\n",
      "Iteration 123, loss = 0.18391923\n",
      "Iteration 124, loss = 0.18427252\n",
      "Iteration 125, loss = 0.18340286\n",
      "Iteration 126, loss = 0.18401501\n",
      "Iteration 127, loss = 0.18273900\n",
      "Iteration 128, loss = 0.18231412\n",
      "Iteration 129, loss = 0.18178463\n",
      "Iteration 130, loss = 0.18231896\n",
      "Iteration 131, loss = 0.18138770\n",
      "Iteration 132, loss = 0.18082263\n",
      "Iteration 133, loss = 0.17988560\n",
      "Iteration 134, loss = 0.18049565\n",
      "Iteration 135, loss = 0.18151114\n",
      "Iteration 136, loss = 0.17903880\n",
      "Iteration 137, loss = 0.17810902\n",
      "Iteration 138, loss = 0.17749097\n",
      "Iteration 139, loss = 0.17868799\n",
      "Iteration 140, loss = 0.17844000\n",
      "Iteration 141, loss = 0.17722747\n",
      "Iteration 142, loss = 0.17762011\n",
      "Iteration 143, loss = 0.17533113\n",
      "Iteration 144, loss = 0.17598435\n",
      "Iteration 145, loss = 0.17579432\n",
      "Iteration 146, loss = 0.17670219\n",
      "Iteration 147, loss = 0.17485207\n",
      "Iteration 148, loss = 0.17480018\n",
      "Iteration 149, loss = 0.17568480\n",
      "Iteration 150, loss = 0.17435336\n",
      "Iteration 151, loss = 0.17370778\n",
      "Iteration 152, loss = 0.17534151\n",
      "Iteration 153, loss = 0.17253006\n",
      "Iteration 154, loss = 0.17368617\n",
      "Iteration 155, loss = 0.17298896\n",
      "Iteration 156, loss = 0.17388856\n",
      "Iteration 157, loss = 0.17212470\n",
      "Iteration 158, loss = 0.17226722\n",
      "Iteration 159, loss = 0.17225543\n",
      "Iteration 160, loss = 0.17094923\n",
      "Iteration 161, loss = 0.17320885\n",
      "Iteration 162, loss = 0.17111857\n",
      "Iteration 163, loss = 0.17130006\n",
      "Iteration 164, loss = 0.17223747\n",
      "Iteration 165, loss = 0.16936753\n",
      "Iteration 166, loss = 0.16882118\n",
      "Iteration 167, loss = 0.16891767\n",
      "Iteration 168, loss = 0.16839439\n",
      "Iteration 169, loss = 0.16821747\n",
      "Iteration 170, loss = 0.16877667\n",
      "Iteration 171, loss = 0.16826489\n",
      "Iteration 172, loss = 0.16758151\n",
      "Iteration 173, loss = 0.16714073\n",
      "Iteration 174, loss = 0.16791941\n",
      "Iteration 175, loss = 0.16788536\n",
      "Iteration 176, loss = 0.16658077\n",
      "Iteration 177, loss = 0.16612196\n",
      "Iteration 178, loss = 0.16629600\n",
      "Iteration 179, loss = 0.16493491\n",
      "Iteration 180, loss = 0.16571881\n",
      "Iteration 181, loss = 0.16614512\n",
      "Iteration 182, loss = 0.16628512\n",
      "Iteration 183, loss = 0.16539298\n",
      "Iteration 184, loss = 0.16533020\n",
      "Iteration 185, loss = 0.16342717\n",
      "Iteration 186, loss = 0.16413408\n",
      "Iteration 187, loss = 0.16427676\n",
      "Iteration 188, loss = 0.16315106\n",
      "Iteration 189, loss = 0.16372301\n",
      "Iteration 190, loss = 0.16391999\n",
      "Iteration 191, loss = 0.16320251\n",
      "Iteration 192, loss = 0.16201419\n",
      "Iteration 193, loss = 0.16194870\n",
      "Iteration 194, loss = 0.16135218\n",
      "Iteration 195, loss = 0.16096583\n",
      "Iteration 196, loss = 0.16174265\n",
      "Iteration 197, loss = 0.16183799\n",
      "Iteration 198, loss = 0.16075903\n",
      "Iteration 199, loss = 0.16058398\n",
      "Iteration 200, loss = 0.16072496\n",
      "Iteration 201, loss = 0.16027776\n",
      "Iteration 202, loss = 0.16084873\n",
      "Iteration 203, loss = 0.15859770\n",
      "Iteration 204, loss = 0.15916779\n",
      "Iteration 205, loss = 0.15895981\n",
      "Iteration 206, loss = 0.15907656\n",
      "Iteration 207, loss = 0.15825373\n",
      "Iteration 208, loss = 0.16015447\n",
      "Iteration 209, loss = 0.15871490\n",
      "Iteration 210, loss = 0.15797555\n",
      "Iteration 211, loss = 0.15851723\n",
      "Iteration 212, loss = 0.15749525\n",
      "Iteration 213, loss = 0.15710469\n",
      "Iteration 214, loss = 0.15712761\n",
      "Iteration 215, loss = 0.15792507\n",
      "Iteration 216, loss = 0.15734892\n",
      "Iteration 217, loss = 0.15923229\n",
      "Iteration 218, loss = 0.15709293\n",
      "Iteration 219, loss = 0.15709890\n",
      "Iteration 220, loss = 0.15589403\n",
      "Iteration 221, loss = 0.15726207\n",
      "Iteration 222, loss = 0.15564984\n",
      "Iteration 223, loss = 0.15614297\n",
      "Iteration 224, loss = 0.15372186\n",
      "Iteration 225, loss = 0.15497197\n",
      "Iteration 226, loss = 0.15482154\n",
      "Iteration 227, loss = 0.15378672\n",
      "Iteration 228, loss = 0.15375619\n",
      "Iteration 229, loss = 0.15414561\n",
      "Iteration 230, loss = 0.15442298\n",
      "Iteration 231, loss = 0.15345957\n",
      "Iteration 232, loss = 0.15420150\n",
      "Iteration 233, loss = 0.15348460\n",
      "Iteration 234, loss = 0.15246640\n",
      "Iteration 235, loss = 0.15376308\n",
      "Iteration 236, loss = 0.15277721\n",
      "Iteration 237, loss = 0.15176336\n",
      "Iteration 238, loss = 0.15283987\n",
      "Iteration 239, loss = 0.15342389\n",
      "Iteration 240, loss = 0.15116334\n",
      "Iteration 241, loss = 0.15139542\n",
      "Iteration 242, loss = 0.15049638\n",
      "Iteration 243, loss = 0.15118536\n",
      "Iteration 244, loss = 0.15103104\n",
      "Iteration 245, loss = 0.15157138\n",
      "Iteration 246, loss = 0.15177667\n",
      "Iteration 247, loss = 0.14969448\n",
      "Iteration 248, loss = 0.14986784\n",
      "Iteration 249, loss = 0.15205942\n",
      "Iteration 250, loss = 0.14976000\n",
      "Iteration 251, loss = 0.14925605\n",
      "Iteration 252, loss = 0.14908996\n",
      "Iteration 253, loss = 0.14964024\n",
      "Iteration 254, loss = 0.14856461\n",
      "Iteration 255, loss = 0.14907064\n",
      "Iteration 256, loss = 0.14856376\n",
      "Iteration 257, loss = 0.14760622\n",
      "Iteration 258, loss = 0.14867673\n",
      "Iteration 259, loss = 0.14902909\n",
      "Iteration 260, loss = 0.14856610\n",
      "Iteration 261, loss = 0.14795019\n",
      "Iteration 262, loss = 0.14950898\n",
      "Iteration 263, loss = 0.14824772\n",
      "Iteration 264, loss = 0.14861708\n",
      "Iteration 265, loss = 0.15060243\n"
     ]
    },
    {
     "name": "stderr",
     "output_type": "stream",
     "text": [
      "/home/gabriel/Projects/machine-learning-e-data-science-com-python/.venv/lib/python3.10/site-packages/sklearn/neural_network/_multilayer_perceptron.py:698: UserWarning: Training interrupted by user.\n",
      "  warnings.warn(\"Training interrupted by user.\")\n"
     ]
    },
    {
     "data": {
      "text/html": [
       "<style>#sk-container-id-1 {color: black;}#sk-container-id-1 pre{padding: 0;}#sk-container-id-1 div.sk-toggleable {background-color: white;}#sk-container-id-1 label.sk-toggleable__label {cursor: pointer;display: block;width: 100%;margin-bottom: 0;padding: 0.3em;box-sizing: border-box;text-align: center;}#sk-container-id-1 label.sk-toggleable__label-arrow:before {content: \"▸\";float: left;margin-right: 0.25em;color: #696969;}#sk-container-id-1 label.sk-toggleable__label-arrow:hover:before {color: black;}#sk-container-id-1 div.sk-estimator:hover label.sk-toggleable__label-arrow:before {color: black;}#sk-container-id-1 div.sk-toggleable__content {max-height: 0;max-width: 0;overflow: hidden;text-align: left;background-color: #f0f8ff;}#sk-container-id-1 div.sk-toggleable__content pre {margin: 0.2em;color: black;border-radius: 0.25em;background-color: #f0f8ff;}#sk-container-id-1 input.sk-toggleable__control:checked~div.sk-toggleable__content {max-height: 200px;max-width: 100%;overflow: auto;}#sk-container-id-1 input.sk-toggleable__control:checked~label.sk-toggleable__label-arrow:before {content: \"▾\";}#sk-container-id-1 div.sk-estimator input.sk-toggleable__control:checked~label.sk-toggleable__label {background-color: #d4ebff;}#sk-container-id-1 div.sk-label input.sk-toggleable__control:checked~label.sk-toggleable__label {background-color: #d4ebff;}#sk-container-id-1 input.sk-hidden--visually {border: 0;clip: rect(1px 1px 1px 1px);clip: rect(1px, 1px, 1px, 1px);height: 1px;margin: -1px;overflow: hidden;padding: 0;position: absolute;width: 1px;}#sk-container-id-1 div.sk-estimator {font-family: monospace;background-color: #f0f8ff;border: 1px dotted black;border-radius: 0.25em;box-sizing: border-box;margin-bottom: 0.5em;}#sk-container-id-1 div.sk-estimator:hover {background-color: #d4ebff;}#sk-container-id-1 div.sk-parallel-item::after {content: \"\";width: 100%;border-bottom: 1px solid gray;flex-grow: 1;}#sk-container-id-1 div.sk-label:hover label.sk-toggleable__label {background-color: #d4ebff;}#sk-container-id-1 div.sk-serial::before {content: \"\";position: absolute;border-left: 1px solid gray;box-sizing: border-box;top: 0;bottom: 0;left: 50%;z-index: 0;}#sk-container-id-1 div.sk-serial {display: flex;flex-direction: column;align-items: center;background-color: white;padding-right: 0.2em;padding-left: 0.2em;position: relative;}#sk-container-id-1 div.sk-item {position: relative;z-index: 1;}#sk-container-id-1 div.sk-parallel {display: flex;align-items: stretch;justify-content: center;background-color: white;position: relative;}#sk-container-id-1 div.sk-item::before, #sk-container-id-1 div.sk-parallel-item::before {content: \"\";position: absolute;border-left: 1px solid gray;box-sizing: border-box;top: 0;bottom: 0;left: 50%;z-index: -1;}#sk-container-id-1 div.sk-parallel-item {display: flex;flex-direction: column;z-index: 1;position: relative;background-color: white;}#sk-container-id-1 div.sk-parallel-item:first-child::after {align-self: flex-end;width: 50%;}#sk-container-id-1 div.sk-parallel-item:last-child::after {align-self: flex-start;width: 50%;}#sk-container-id-1 div.sk-parallel-item:only-child::after {width: 0;}#sk-container-id-1 div.sk-dashed-wrapped {border: 1px dashed gray;margin: 0 0.4em 0.5em 0.4em;box-sizing: border-box;padding-bottom: 0.4em;background-color: white;}#sk-container-id-1 div.sk-label label {font-family: monospace;font-weight: bold;display: inline-block;line-height: 1.2em;}#sk-container-id-1 div.sk-label-container {text-align: center;}#sk-container-id-1 div.sk-container {/* jupyter's `normalize.less` sets `[hidden] { display: none; }` but bootstrap.min.css set `[hidden] { display: none !important; }` so we also need the `!important` here to be able to override the default hidden behavior on the sphinx rendered scikit-learn.org. See: https://github.com/scikit-learn/scikit-learn/issues/21755 */display: inline-block !important;position: relative;}#sk-container-id-1 div.sk-text-repr-fallback {display: none;}</style><div id=\"sk-container-id-1\" class=\"sk-top-container\"><div class=\"sk-text-repr-fallback\"><pre>MLPClassifier(hidden_layer_sizes=(55, 55), max_iter=1000, tol=1e-05,\n",
       "              verbose=True)</pre><b>In a Jupyter environment, please rerun this cell to show the HTML representation or trust the notebook. <br />On GitHub, the HTML representation is unable to render, please try loading this page with nbviewer.org.</b></div><div class=\"sk-container\" hidden><div class=\"sk-item\"><div class=\"sk-estimator sk-toggleable\"><input class=\"sk-toggleable__control sk-hidden--visually\" id=\"sk-estimator-id-1\" type=\"checkbox\" checked><label for=\"sk-estimator-id-1\" class=\"sk-toggleable__label sk-toggleable__label-arrow\">MLPClassifier</label><div class=\"sk-toggleable__content\"><pre>MLPClassifier(hidden_layer_sizes=(55, 55), max_iter=1000, tol=1e-05,\n",
       "              verbose=True)</pre></div></div></div></div></div>"
      ],
      "text/plain": [
       "MLPClassifier(hidden_layer_sizes=(55, 55), max_iter=1000, tol=1e-05,\n",
       "              verbose=True)"
      ]
     },
     "execution_count": 6,
     "metadata": {},
     "output_type": "execute_result"
    }
   ],
   "source": [
    "neural_network_census = MLPClassifier(verbose=True, max_iter=250, hidden_layer_sizes=(55, 55))\n",
    "neural_network_census.fit(X_census_train, y_census_train)"
   ]
  },
  {
   "cell_type": "code",
   "execution_count": 7,
   "metadata": {},
   "outputs": [],
   "source": [
    "predicts = neural_network_census.predict(X_census_test)"
   ]
  },
  {
   "cell_type": "code",
   "execution_count": 8,
   "metadata": {},
   "outputs": [
    {
     "data": {
      "text/plain": [
       "array([' <=50K', ' <=50K', ' <=50K', ..., ' <=50K', ' <=50K', ' >50K'],\n",
       "      dtype='<U6')"
      ]
     },
     "execution_count": 8,
     "metadata": {},
     "output_type": "execute_result"
    }
   ],
   "source": [
    "predicts"
   ]
  },
  {
   "cell_type": "code",
   "execution_count": 9,
   "metadata": {},
   "outputs": [
    {
     "data": {
      "text/plain": [
       "array([' <=50K', ' <=50K', ' <=50K', ..., ' <=50K', ' <=50K', ' <=50K'],\n",
       "      dtype=object)"
      ]
     },
     "execution_count": 9,
     "metadata": {},
     "output_type": "execute_result"
    }
   ],
   "source": [
    "y_census_test"
   ]
  },
  {
   "cell_type": "code",
   "execution_count": 10,
   "metadata": {},
   "outputs": [
    {
     "data": {
      "text/plain": [
       "0.8190378710337769"
      ]
     },
     "execution_count": 10,
     "metadata": {},
     "output_type": "execute_result"
    }
   ],
   "source": [
    "accuracy_score(y_census_test, predicts)"
   ]
  },
  {
   "cell_type": "code",
   "execution_count": 12,
   "metadata": {},
   "outputs": [
    {
     "data": {
      "text/plain": [
       "0.8190378710337769"
      ]
     },
     "execution_count": 12,
     "metadata": {},
     "output_type": "execute_result"
    },
    {
     "data": {
      "image/png": "[encoded data removed]",
      "text/plain": [
       "<Figure size 800x550 with 1 Axes>"
      ]
     },
     "metadata": {},
     "output_type": "display_data"
    }
   ],
   "source": [
    "cm = ConfusionMatrix(neural_network_census)\n",
    "cm.fit(X_census_train, y_census_train)\n",
    "cm.score(X_census_test, y_census_test)"
   ]
  },
  {
   "cell_type": "code",
   "execution_count": 13,
   "metadata": {},
   "outputs": [
    {
     "name": "stdout",
     "output_type": "stream",
     "text": [
      "              precision    recall  f1-score   support\n",
      "\n",
      "       <=50K       0.87      0.89      0.88      3693\n",
      "        >50K       0.64      0.59      0.61      1192\n",
      "\n",
      "    accuracy                           0.82      4885\n",
      "   macro avg       0.76      0.74      0.75      4885\n",
      "weighted avg       0.81      0.82      0.82      4885\n",
      "\n"
     ]
    }
   ],
   "source": [
    "print(classification_report(y_census_test, predicts))"
   ]
  },
  {
   "cell_type": "code",
   "execution_count": null,
   "metadata": {},
   "outputs": [],
   "source": []
  }
 ],
 "metadata": {
  "kernelspec": {
   "display_name": ".venv",
   "language": "python",
   "name": "python3"
  },
  "language_info": {
   "codemirror_mode": {
    "name": "ipython",
    "version": 3
   },
   "file_extension": ".py",
   "mimetype": "text/x-python",
   "name": "python",
   "nbconvert_exporter": "python",
   "pygments_lexer": "ipython3",
   "version": "3.10.12"
  },
  "orig_nbformat": 4
 },
 "nbformat": 4,
 "nbformat_minor": 2
}
