{
 "cells": [
  {
   "cell_type": "markdown",
   "metadata": {},
   "source": [
    "# Combinação de classificadores"
   ]
  },
  {
   "cell_type": "code",
   "execution_count": 1,
   "metadata": {},
   "outputs": [],
   "source": [
    "import pickle"
   ]
  },
  {
   "cell_type": "code",
   "execution_count": 2,
   "metadata": {},
   "outputs": [],
   "source": [
    "with open('../../assets/credit.pkl', 'rb') as f:\n",
    "  X_credit_train, y_credit_train, X_credit_test, y_credit_test = pickle.load(f)"
   ]
  },
  {
   "cell_type": "code",
   "execution_count": 3,
   "metadata": {},
   "outputs": [],
   "source": [
    "import numpy as np"
   ]
  },
  {
   "cell_type": "code",
   "execution_count": 4,
   "metadata": {},
   "outputs": [],
   "source": [
    "X_credit = np.concatenate((X_credit_train, X_credit_test), axis = 0)\n",
    "y_credit = np.concatenate((y_credit_train, y_credit_test), axis = 0)"
   ]
  },
  {
   "cell_type": "code",
   "execution_count": 5,
   "metadata": {},
   "outputs": [],
   "source": [
    "neural_network = pickle.load(open('rede_neural_finalizado.sav', 'rb'))\n",
    "tree = pickle.load(open('arvore_finalizado.sav', 'rb'))\n",
    "svm = pickle.load(open('svm_finalizado.sav', 'rb'))"
   ]
  },
  {
   "cell_type": "code",
   "execution_count": 6,
   "metadata": {},
   "outputs": [
    {
     "data": {
      "text/plain": [
       "array([-1.03572293, -0.93978209,  0.04244312])"
      ]
     },
     "execution_count": 6,
     "metadata": {},
     "output_type": "execute_result"
    }
   ],
   "source": [
    "new_record = X_credit[1999]\n",
    "new_record"
   ]
  },
  {
   "cell_type": "code",
   "execution_count": 7,
   "metadata": {},
   "outputs": [
    {
     "data": {
      "text/plain": [
       "(3,)"
      ]
     },
     "execution_count": 7,
     "metadata": {},
     "output_type": "execute_result"
    }
   ],
   "source": [
    "new_record.shape"
   ]
  },
  {
   "cell_type": "code",
   "execution_count": 8,
   "metadata": {},
   "outputs": [
    {
     "data": {
      "text/plain": [
       "(1, 3)"
      ]
     },
     "execution_count": 8,
     "metadata": {},
     "output_type": "execute_result"
    }
   ],
   "source": [
    "new_record = new_record.reshape(1, -1)\n",
    "new_record.shape"
   ]
  },
  {
   "cell_type": "code",
   "execution_count": 9,
   "metadata": {},
   "outputs": [
    {
     "data": {
      "text/plain": [
       "array([[-1.03572293, -0.93978209,  0.04244312]])"
      ]
     },
     "execution_count": 9,
     "metadata": {},
     "output_type": "execute_result"
    }
   ],
   "source": [
    "new_record"
   ]
  },
  {
   "cell_type": "code",
   "execution_count": 10,
   "metadata": {},
   "outputs": [],
   "source": [
    "result_neural_network = neural_network.predict(new_record)"
   ]
  },
  {
   "cell_type": "code",
   "execution_count": 11,
   "metadata": {},
   "outputs": [],
   "source": [
    "result_tree = tree.predict(new_record)"
   ]
  },
  {
   "cell_type": "code",
   "execution_count": 12,
   "metadata": {},
   "outputs": [],
   "source": [
    "result_svm = svm.predict(new_record)"
   ]
  },
  {
   "cell_type": "code",
   "execution_count": 13,
   "metadata": {},
   "outputs": [],
   "source": [
    "results = np.concatenate((result_neural_network, result_tree, result_svm))"
   ]
  },
  {
   "cell_type": "code",
   "execution_count": 14,
   "metadata": {},
   "outputs": [
    {
     "data": {
      "text/plain": [
       "(0, 3)"
      ]
     },
     "execution_count": 14,
     "metadata": {},
     "output_type": "execute_result"
    }
   ],
   "source": [
    "pay = (results == 0).sum()\n",
    "not_pay = (results == 1).sum()\n",
    "\n",
    "pay, not_pay"
   ]
  },
  {
   "cell_type": "code",
   "execution_count": 15,
   "metadata": {},
   "outputs": [
    {
     "name": "stdout",
     "output_type": "stream",
     "text": [
      "Cliente não pagará o empréstimo\n"
     ]
    }
   ],
   "source": [
    "if pay > not_pay:\n",
    "  print(\"Cliente pagará o empréstimo\")\n",
    "elif pay == not_pay:\n",
    "  print(\"Empate\")\n",
    "else:\n",
    "  print(\"Cliente não pagará o empréstimo\")"
   ]
  },
  {
   "cell_type": "markdown",
   "metadata": {},
   "source": [
    "# Rejeição de classificação"
   ]
  },
  {
   "cell_type": "code",
   "execution_count": 16,
   "metadata": {},
   "outputs": [
    {
     "data": {
      "text/plain": [
       "array([[1.33098109e-04, 9.99866902e-01]])"
      ]
     },
     "execution_count": 16,
     "metadata": {},
     "output_type": "execute_result"
    }
   ],
   "source": [
    "prob_neural_network = neural_network.predict_proba(new_record)\n",
    "prob_neural_network"
   ]
  },
  {
   "cell_type": "code",
   "execution_count": 19,
   "metadata": {},
   "outputs": [
    {
     "data": {
      "text/plain": [
       "0.9998669018912271"
      ]
     },
     "execution_count": 19,
     "metadata": {},
     "output_type": "execute_result"
    }
   ],
   "source": [
    "trust_neural_network = prob_neural_network.max()\n",
    "trust_neural_network"
   ]
  },
  {
   "cell_type": "code",
   "execution_count": 22,
   "metadata": {},
   "outputs": [
    {
     "data": {
      "text/plain": [
       "1.0"
      ]
     },
     "execution_count": 22,
     "metadata": {},
     "output_type": "execute_result"
    }
   ],
   "source": [
    "prob_tree = tree.predict_proba(new_record)\n",
    "trust_tree = prob_tree.max()\n",
    "trust_tree"
   ]
  },
  {
   "cell_type": "code",
   "execution_count": 23,
   "metadata": {},
   "outputs": [
    {
     "data": {
      "text/plain": [
       "0.9918957645462223"
      ]
     },
     "execution_count": 23,
     "metadata": {},
     "output_type": "execute_result"
    }
   ],
   "source": [
    "prob_svm = svm.predict_proba(new_record)\n",
    "trust_svm = prob_svm.max()\n",
    "trust_svm"
   ]
  },
  {
   "cell_type": "markdown",
   "metadata": {},
   "source": [
    "# Refatoração"
   ]
  },
  {
   "cell_type": "code",
   "execution_count": 26,
   "metadata": {},
   "outputs": [],
   "source": [
    "algorithms = {\n",
    "    \"neural_network\": [neural_network],\n",
    "    \"tree\": [tree],\n",
    "    \"svm\": [svm]\n",
    "}\n",
    "\n",
    "for algorithm, data in algorithms.items():\n",
    "  model = data[0]\n",
    "\n",
    "  result = model.predict(new_record)\n",
    "  prob = model.predict_proba(new_record)\n",
    "  trust = prob.max()\n",
    "\n",
    "  data += [result, prob, trust]\n",
    "  "
   ]
  },
  {
   "cell_type": "code",
   "execution_count": 29,
   "metadata": {},
   "outputs": [
    {
     "name": "stdout",
     "output_type": "stream",
     "text": [
      "Cliente não pagará o empréstimo, baseado em 1 algoritmos.\n"
     ]
    }
   ],
   "source": [
    "trust_limiar = 0.999999\n",
    "count = 0\n",
    "not_pay, pay = 0, 0\n",
    "\n",
    "for data in algorithms.values():\n",
    "    if data[3] < trust_limiar:\n",
    "        continue\n",
    "    \n",
    "    if data[1] == 1:\n",
    "        not_pay += 1\n",
    "        count += 1\n",
    "\n",
    "    if data[1] == 0:\n",
    "        pay += 1\n",
    "        count += 1\n",
    "\n",
    "if pay > not_pay:\n",
    "    print(f\"Cliente pagará o empréstimo, baseado em {count} algoritmos.\")\n",
    "elif pay == not_pay:\n",
    "    print(f\"Empate, baseado em {count} algoritmos.\")\n",
    "else:\n",
    "    print(f\"Cliente não pagará o empréstimo, baseado em {count} algoritmos.\")"
   ]
  },
  {
   "cell_type": "code",
   "execution_count": null,
   "metadata": {},
   "outputs": [],
   "source": []
  }
 ],
 "metadata": {
  "kernelspec": {
   "display_name": ".venv",
   "language": "python",
   "name": "python3"
  },
  "language_info": {
   "codemirror_mode": {
    "name": "ipython",
    "version": 3
   },
   "file_extension": ".py",
   "mimetype": "text/x-python",
   "name": "python",
   "nbconvert_exporter": "python",
   "pygments_lexer": "ipython3",
   "version": "3.10.12"
  },
  "orig_nbformat": 4
 },
 "nbformat": 4,
 "nbformat_minor": 2
}
