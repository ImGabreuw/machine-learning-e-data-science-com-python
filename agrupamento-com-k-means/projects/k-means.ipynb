{
 "cells": [
  {
   "cell_type": "code",
   "execution_count": 1,
   "metadata": {},
   "outputs": [
    {
     "name": "stdout",
     "output_type": "stream",
     "text": [
      "Note: you may need to restart the kernel to use updated packages.\n"
     ]
    }
   ],
   "source": [
    "%pip install plotly -q"
   ]
  },
  {
   "cell_type": "code",
   "execution_count": 2,
   "metadata": {},
   "outputs": [],
   "source": [
    "import plotly.express as px\n",
    "import plotly.graph_objects as go\n",
    "import numpy as np\n",
    "from sklearn.preprocessing import StandardScaler"
   ]
  },
  {
   "cell_type": "markdown",
   "metadata": {},
   "source": [
    "# Base idade e salário"
   ]
  },
  {
   "cell_type": "code",
   "execution_count": 3,
   "metadata": {},
   "outputs": [],
   "source": [
    "from sklearn.cluster import KMeans"
   ]
  },
  {
   "cell_type": "code",
   "execution_count": 4,
   "metadata": {},
   "outputs": [],
   "source": [
    "x = [20,  27,  21,  37,  46, 53, 55,  47,  52,  32,  39,  41,  39,  48,  48]\n",
    "y = [1000, 1200, 2900, 1850, 900, 950, 2000, 2100,\n",
    "     3000, 5900, 4100, 5100, 7000, 5000, 6500]"
   ]
  },
  {
   "cell_type": "code",
   "execution_count": 5,
   "metadata": {},
   "outputs": [
    {
     "data": {
      "application/vnd.plotly.v1+json": {
       "config": {
        "plotlyServerURL": "https://plot.ly"
       },
       "data": [
        {
         "hovertemplate": "x=%{x}<br>y=%{y}<extra></extra>",
         "legendgroup": "",
         "marker": {
          "color": "#636efa",
          "symbol": "circle"
         },
         "mode": "markers",
         "name": "",
         "orientation": "v",
         "showlegend": false,
         "type": "scatter",
         "x": [
          20,
          27,
          21,
          37,
          46,
          53,
          55,
          47,
          52,
          32,
          39,
          41,
          39,
          48,
          48
         ],
         "xaxis": "x",
         "y": [
          1000,
          1200,
          2900,
          1850,
          900,
          950,
          2000,
          2100,
          3000,
          5900,
          4100,
          5100,
          7000,
          5000,
          6500
         ],
         "yaxis": "y"
        }
       ],
       "layout": {
        "legend": {
         "tracegroupgap": 0
        },
        "margin": {
         "t": 60
        },
        "template": {
         "data": {
          "bar": [
           {
            "error_x": {
             "color": "#2a3f5f"
            },
            "error_y": {
             "color": "#2a3f5f"
            },
            "marker": {
             "line": {
              "color": "#E5ECF6",
              "width": 0.5
             },
             "pattern": {
              "fillmode": "overlay",
              "size": 10,
              "solidity": 0.2
             }
            },
            "type": "bar"
           }
          ],
          "barpolar": [
           {
            "marker": {
             "line": {
              "color": "#E5ECF6",
              "width": 0.5
             },
             "pattern": {
              "fillmode": "overlay",
              "size": 10,
              "solidity": 0.2
             }
            },
            "type": "barpolar"
           }
          ],
          "carpet": [
           {
            "aaxis": {
             "endlinecolor": "#2a3f5f",
             "gridcolor": "white",
             "linecolor": "white",
             "minorgridcolor": "white",
             "startlinecolor": "#2a3f5f"
            },
            "baxis": {
             "endlinecolor": "#2a3f5f",
             "gridcolor": "white",
             "linecolor": "white",
             "minorgridcolor": "white",
             "startlinecolor": "#2a3f5f"
            },
            "type": "carpet"
           }
          ],
          "choropleth": [
           {
            "colorbar": {
             "outlinewidth": 0,
             "ticks": ""
            },
            "type": "choropleth"
           }
          ],
          "contour": [
           {
            "colorbar": {
             "outlinewidth": 0,
             "ticks": ""
            },
            "colorscale": [
             [
              0,
              "#0d0887"
             ],
             [
              0.1111111111111111,
              "#46039f"
             ],
             [
              0.2222222222222222,
              "#7201a8"
             ],
             [
              0.3333333333333333,
              "#9c179e"
             ],
             [
              0.4444444444444444,
              "#bd3786"
             ],
             [
              0.5555555555555556,
              "#d8576b"
             ],
             [
              0.6666666666666666,
              "#ed7953"
             ],
             [
              0.7777777777777778,
              "#fb9f3a"
             ],
             [
              0.8888888888888888,
              "#fdca26"
             ],
             [
              1,
              "#f0f921"
             ]
            ],
            "type": "contour"
           }
          ],
          "contourcarpet": [
           {
            "colorbar": {
             "outlinewidth": 0,
             "ticks": ""
            },
            "type": "contourcarpet"
           }
          ],
          "heatmap": [
           {
            "colorbar": {
             "outlinewidth": 0,
             "ticks": ""
            },
            "colorscale": [
             [
              0,
              "#0d0887"
             ],
             [
              0.1111111111111111,
              "#46039f"
             ],
             [
              0.2222222222222222,
              "#7201a8"
             ],
             [
              0.3333333333333333,
              "#9c179e"
             ],
             [
              0.4444444444444444,
              "#bd3786"
             ],
             [
              0.5555555555555556,
              "#d8576b"
             ],
             [
              0.6666666666666666,
              "#ed7953"
             ],
             [
              0.7777777777777778,
              "#fb9f3a"
             ],
             [
              0.8888888888888888,
              "#fdca26"
             ],
             [
              1,
              "#f0f921"
             ]
            ],
            "type": "heatmap"
           }
          ],
          "heatmapgl": [
           {
            "colorbar": {
             "outlinewidth": 0,
             "ticks": ""
            },
            "colorscale": [
             [
              0,
              "#0d0887"
             ],
             [
              0.1111111111111111,
              "#46039f"
             ],
             [
              0.2222222222222222,
              "#7201a8"
             ],
             [
              0.3333333333333333,
              "#9c179e"
             ],
             [
              0.4444444444444444,
              "#bd3786"
             ],
             [
              0.5555555555555556,
              "#d8576b"
             ],
             [
              0.6666666666666666,
              "#ed7953"
             ],
             [
              0.7777777777777778,
              "#fb9f3a"
             ],
             [
              0.8888888888888888,
              "#fdca26"
             ],
             [
              1,
              "#f0f921"
             ]
            ],
            "type": "heatmapgl"
           }
          ],
          "histogram": [
           {
            "marker": {
             "pattern": {
              "fillmode": "overlay",
              "size": 10,
              "solidity": 0.2
             }
            },
            "type": "histogram"
           }
          ],
          "histogram2d": [
           {
            "colorbar": {
             "outlinewidth": 0,
             "ticks": ""
            },
            "colorscale": [
             [
              0,
              "#0d0887"
             ],
             [
              0.1111111111111111,
              "#46039f"
             ],
             [
              0.2222222222222222,
              "#7201a8"
             ],
             [
              0.3333333333333333,
              "#9c179e"
             ],
             [
              0.4444444444444444,
              "#bd3786"
             ],
             [
              0.5555555555555556,
              "#d8576b"
             ],
             [
              0.6666666666666666,
              "#ed7953"
             ],
             [
              0.7777777777777778,
              "#fb9f3a"
             ],
             [
              0.8888888888888888,
              "#fdca26"
             ],
             [
              1,
              "#f0f921"
             ]
            ],
            "type": "histogram2d"
           }
          ],
          "histogram2dcontour": [
           {
            "colorbar": {
             "outlinewidth": 0,
             "ticks": ""
            },
            "colorscale": [
             [
              0,
              "#0d0887"
             ],
             [
              0.1111111111111111,
              "#46039f"
             ],
             [
              0.2222222222222222,
              "#7201a8"
             ],
             [
              0.3333333333333333,
              "#9c179e"
             ],
             [
              0.4444444444444444,
              "#bd3786"
             ],
             [
              0.5555555555555556,
              "#d8576b"
             ],
             [
              0.6666666666666666,
              "#ed7953"
             ],
             [
              0.7777777777777778,
              "#fb9f3a"
             ],
             [
              0.8888888888888888,
              "#fdca26"
             ],
             [
              1,
              "#f0f921"
             ]
            ],
            "type": "histogram2dcontour"
           }
          ],
          "mesh3d": [
           {
            "colorbar": {
             "outlinewidth": 0,
             "ticks": ""
            },
            "type": "mesh3d"
           }
          ],
          "parcoords": [
           {
            "line": {
             "colorbar": {
              "outlinewidth": 0,
              "ticks": ""
             }
            },
            "type": "parcoords"
           }
          ],
          "pie": [
           {
            "automargin": true,
            "type": "pie"
           }
          ],
          "scatter": [
           {
            "fillpattern": {
             "fillmode": "overlay",
             "size": 10,
             "solidity": 0.2
            },
            "type": "scatter"
           }
          ],
          "scatter3d": [
           {
            "line": {
             "colorbar": {
              "outlinewidth": 0,
              "ticks": ""
             }
            },
            "marker": {
             "colorbar": {
              "outlinewidth": 0,
              "ticks": ""
             }
            },
            "type": "scatter3d"
           }
          ],
          "scattercarpet": [
           {
            "marker": {
             "colorbar": {
              "outlinewidth": 0,
              "ticks": ""
             }
            },
            "type": "scattercarpet"
           }
          ],
          "scattergeo": [
           {
            "marker": {
             "colorbar": {
              "outlinewidth": 0,
              "ticks": ""
             }
            },
            "type": "scattergeo"
           }
          ],
          "scattergl": [
           {
            "marker": {
             "colorbar": {
              "outlinewidth": 0,
              "ticks": ""
             }
            },
            "type": "scattergl"
           }
          ],
          "scattermapbox": [
           {
            "marker": {
             "colorbar": {
              "outlinewidth": 0,
              "ticks": ""
             }
            },
            "type": "scattermapbox"
           }
          ],
          "scatterpolar": [
           {
            "marker": {
             "colorbar": {
              "outlinewidth": 0,
              "ticks": ""
             }
            },
            "type": "scatterpolar"
           }
          ],
          "scatterpolargl": [
           {
            "marker": {
             "colorbar": {
              "outlinewidth": 0,
              "ticks": ""
             }
            },
            "type": "scatterpolargl"
           }
          ],
          "scatterternary": [
           {
            "marker": {
             "colorbar": {
              "outlinewidth": 0,
              "ticks": ""
             }
            },
            "type": "scatterternary"
           }
          ],
          "surface": [
           {
            "colorbar": {
             "outlinewidth": 0,
             "ticks": ""
            },
            "colorscale": [
             [
              0,
              "#0d0887"
             ],
             [
              0.1111111111111111,
              "#46039f"
             ],
             [
              0.2222222222222222,
              "#7201a8"
             ],
             [
              0.3333333333333333,
              "#9c179e"
             ],
             [
              0.4444444444444444,
              "#bd3786"
             ],
             [
              0.5555555555555556,
              "#d8576b"
             ],
             [
              0.6666666666666666,
              "#ed7953"
             ],
             [
              0.7777777777777778,
              "#fb9f3a"
             ],
             [
              0.8888888888888888,
              "#fdca26"
             ],
             [
              1,
              "#f0f921"
             ]
            ],
            "type": "surface"
           }
          ],
          "table": [
           {
            "cells": {
             "fill": {
              "color": "#EBF0F8"
             },
             "line": {
              "color": "white"
             }
            },
            "header": {
             "fill": {
              "color": "#C8D4E3"
             },
             "line": {
              "color": "white"
             }
            },
            "type": "table"
           }
          ]
         },
         "layout": {
          "annotationdefaults": {
           "arrowcolor": "#2a3f5f",
           "arrowhead": 0,
           "arrowwidth": 1
          },
          "autotypenumbers": "strict",
          "coloraxis": {
           "colorbar": {
            "outlinewidth": 0,
            "ticks": ""
           }
          },
          "colorscale": {
           "diverging": [
            [
             0,
             "#8e0152"
            ],
            [
             0.1,
             "#c51b7d"
            ],
            [
             0.2,
             "#de77ae"
            ],
            [
             0.3,
             "#f1b6da"
            ],
            [
             0.4,
             "#fde0ef"
            ],
            [
             0.5,
             "#f7f7f7"
            ],
            [
             0.6,
             "#e6f5d0"
            ],
            [
             0.7,
             "#b8e186"
            ],
            [
             0.8,
             "#7fbc41"
            ],
            [
             0.9,
             "#4d9221"
            ],
            [
             1,
             "#276419"
            ]
           ],
           "sequential": [
            [
             0,
             "#0d0887"
            ],
            [
             0.1111111111111111,
             "#46039f"
            ],
            [
             0.2222222222222222,
             "#7201a8"
            ],
            [
             0.3333333333333333,
             "#9c179e"
            ],
            [
             0.4444444444444444,
             "#bd3786"
            ],
            [
             0.5555555555555556,
             "#d8576b"
            ],
            [
             0.6666666666666666,
             "#ed7953"
            ],
            [
             0.7777777777777778,
             "#fb9f3a"
            ],
            [
             0.8888888888888888,
             "#fdca26"
            ],
            [
             1,
             "#f0f921"
            ]
           ],
           "sequentialminus": [
            [
             0,
             "#0d0887"
            ],
            [
             0.1111111111111111,
             "#46039f"
            ],
            [
             0.2222222222222222,
             "#7201a8"
            ],
            [
             0.3333333333333333,
             "#9c179e"
            ],
            [
             0.4444444444444444,
             "#bd3786"
            ],
            [
             0.5555555555555556,
             "#d8576b"
            ],
            [
             0.6666666666666666,
             "#ed7953"
            ],
            [
             0.7777777777777778,
             "#fb9f3a"
            ],
            [
             0.8888888888888888,
             "#fdca26"
            ],
            [
             1,
             "#f0f921"
            ]
           ]
          },
          "colorway": [
           "#636efa",
           "#EF553B",
           "#00cc96",
           "#ab63fa",
           "#FFA15A",
           "#19d3f3",
           "#FF6692",
           "#B6E880",
           "#FF97FF",
           "#FECB52"
          ],
          "font": {
           "color": "#2a3f5f"
          },
          "geo": {
           "bgcolor": "white",
           "lakecolor": "white",
           "landcolor": "#E5ECF6",
           "showlakes": true,
           "showland": true,
           "subunitcolor": "white"
          },
          "hoverlabel": {
           "align": "left"
          },
          "hovermode": "closest",
          "mapbox": {
           "style": "light"
          },
          "paper_bgcolor": "white",
          "plot_bgcolor": "#E5ECF6",
          "polar": {
           "angularaxis": {
            "gridcolor": "white",
            "linecolor": "white",
            "ticks": ""
           },
           "bgcolor": "#E5ECF6",
           "radialaxis": {
            "gridcolor": "white",
            "linecolor": "white",
            "ticks": ""
           }
          },
          "scene": {
           "xaxis": {
            "backgroundcolor": "#E5ECF6",
            "gridcolor": "white",
            "gridwidth": 2,
            "linecolor": "white",
            "showbackground": true,
            "ticks": "",
            "zerolinecolor": "white"
           },
           "yaxis": {
            "backgroundcolor": "#E5ECF6",
            "gridcolor": "white",
            "gridwidth": 2,
            "linecolor": "white",
            "showbackground": true,
            "ticks": "",
            "zerolinecolor": "white"
           },
           "zaxis": {
            "backgroundcolor": "#E5ECF6",
            "gridcolor": "white",
            "gridwidth": 2,
            "linecolor": "white",
            "showbackground": true,
            "ticks": "",
            "zerolinecolor": "white"
           }
          },
          "shapedefaults": {
           "line": {
            "color": "#2a3f5f"
           }
          },
          "ternary": {
           "aaxis": {
            "gridcolor": "white",
            "linecolor": "white",
            "ticks": ""
           },
           "baxis": {
            "gridcolor": "white",
            "linecolor": "white",
            "ticks": ""
           },
           "bgcolor": "#E5ECF6",
           "caxis": {
            "gridcolor": "white",
            "linecolor": "white",
            "ticks": ""
           }
          },
          "title": {
           "x": 0.05
          },
          "xaxis": {
           "automargin": true,
           "gridcolor": "white",
           "linecolor": "white",
           "ticks": "",
           "title": {
            "standoff": 15
           },
           "zerolinecolor": "white",
           "zerolinewidth": 2
          },
          "yaxis": {
           "automargin": true,
           "gridcolor": "white",
           "linecolor": "white",
           "ticks": "",
           "title": {
            "standoff": 15
           },
           "zerolinecolor": "white",
           "zerolinewidth": 2
          }
         }
        },
        "xaxis": {
         "anchor": "y",
         "domain": [
          0,
          1
         ],
         "title": {
          "text": "x"
         }
        },
        "yaxis": {
         "anchor": "x",
         "domain": [
          0,
          1
         ],
         "title": {
          "text": "y"
         }
        }
       }
      }
     },
     "metadata": {},
     "output_type": "display_data"
    }
   ],
   "source": [
    "graph = px.scatter(x = x, y = y)\n",
    "graph.show()"
   ]
  },
  {
   "cell_type": "code",
   "execution_count": 7,
   "metadata": {},
   "outputs": [
    {
     "data": {
      "text/plain": [
       "array([[  20, 1000],\n",
       "       [  27, 1200],\n",
       "       [  21, 2900],\n",
       "       [  37, 1850],\n",
       "       [  46,  900],\n",
       "       [  53,  950],\n",
       "       [  55, 2000],\n",
       "       [  47, 2100],\n",
       "       [  52, 3000],\n",
       "       [  32, 5900],\n",
       "       [  39, 4100],\n",
       "       [  41, 5100],\n",
       "       [  39, 7000],\n",
       "       [  48, 5000],\n",
       "       [  48, 6500]])"
      ]
     },
     "execution_count": 7,
     "metadata": {},
     "output_type": "execute_result"
    }
   ],
   "source": [
    "base_salary = np.array([\n",
    "  [age, salary]\n",
    "  for age, salary in zip(x, y)\n",
    "])\n",
    "base_salary"
   ]
  },
  {
   "cell_type": "code",
   "execution_count": 8,
   "metadata": {},
   "outputs": [],
   "source": [
    "scaler_salary = StandardScaler()\n",
    "base_salary = scaler_salary.fit_transform(base_salary)"
   ]
  },
  {
   "cell_type": "code",
   "execution_count": 9,
   "metadata": {},
   "outputs": [
    {
     "data": {
      "text/plain": [
       "array([[-1.87963884, -1.11413572],\n",
       "       [-1.23255006, -1.01725435],\n",
       "       [-1.78719758, -0.19376273],\n",
       "       [-0.30813751, -0.70238991],\n",
       "       [ 0.52383377, -1.1625764 ],\n",
       "       [ 1.17092255, -1.13835606],\n",
       "       [ 1.35580506, -0.62972888],\n",
       "       [ 0.61627503, -0.5812882 ],\n",
       "       [ 1.0784813 , -0.14532205],\n",
       "       [-0.77034379,  1.25945777],\n",
       "       [-0.12325501,  0.38752547],\n",
       "       [ 0.0616275 ,  0.8719323 ],\n",
       "       [-0.12325501,  1.79230528],\n",
       "       [ 0.70871628,  0.82349162],\n",
       "       [ 0.70871628,  1.55010187]])"
      ]
     },
     "execution_count": 9,
     "metadata": {},
     "output_type": "execute_result"
    }
   ],
   "source": [
    "base_salary"
   ]
  },
  {
   "cell_type": "code",
   "execution_count": 10,
   "metadata": {},
   "outputs": [
    {
     "name": "stderr",
     "output_type": "stream",
     "text": [
      "/home/gabriel/Projects/machine-learning-e-data-science-com-python/.venv/lib/python3.10/site-packages/sklearn/cluster/_kmeans.py:1412: FutureWarning:\n",
      "\n",
      "The default value of `n_init` will change from 10 to 'auto' in 1.4. Set the value of `n_init` explicitly to suppress the warning\n",
      "\n"
     ]
    },
    {
     "data": {
      "text/html": [
       "<style>#sk-container-id-1 {color: black;}#sk-container-id-1 pre{padding: 0;}#sk-container-id-1 div.sk-toggleable {background-color: white;}#sk-container-id-1 label.sk-toggleable__label {cursor: pointer;display: block;width: 100%;margin-bottom: 0;padding: 0.3em;box-sizing: border-box;text-align: center;}#sk-container-id-1 label.sk-toggleable__label-arrow:before {content: \"▸\";float: left;margin-right: 0.25em;color: #696969;}#sk-container-id-1 label.sk-toggleable__label-arrow:hover:before {color: black;}#sk-container-id-1 div.sk-estimator:hover label.sk-toggleable__label-arrow:before {color: black;}#sk-container-id-1 div.sk-toggleable__content {max-height: 0;max-width: 0;overflow: hidden;text-align: left;background-color: #f0f8ff;}#sk-container-id-1 div.sk-toggleable__content pre {margin: 0.2em;color: black;border-radius: 0.25em;background-color: #f0f8ff;}#sk-container-id-1 input.sk-toggleable__control:checked~div.sk-toggleable__content {max-height: 200px;max-width: 100%;overflow: auto;}#sk-container-id-1 input.sk-toggleable__control:checked~label.sk-toggleable__label-arrow:before {content: \"▾\";}#sk-container-id-1 div.sk-estimator input.sk-toggleable__control:checked~label.sk-toggleable__label {background-color: #d4ebff;}#sk-container-id-1 div.sk-label input.sk-toggleable__control:checked~label.sk-toggleable__label {background-color: #d4ebff;}#sk-container-id-1 input.sk-hidden--visually {border: 0;clip: rect(1px 1px 1px 1px);clip: rect(1px, 1px, 1px, 1px);height: 1px;margin: -1px;overflow: hidden;padding: 0;position: absolute;width: 1px;}#sk-container-id-1 div.sk-estimator {font-family: monospace;background-color: #f0f8ff;border: 1px dotted black;border-radius: 0.25em;box-sizing: border-box;margin-bottom: 0.5em;}#sk-container-id-1 div.sk-estimator:hover {background-color: #d4ebff;}#sk-container-id-1 div.sk-parallel-item::after {content: \"\";width: 100%;border-bottom: 1px solid gray;flex-grow: 1;}#sk-container-id-1 div.sk-label:hover label.sk-toggleable__label {background-color: #d4ebff;}#sk-container-id-1 div.sk-serial::before {content: \"\";position: absolute;border-left: 1px solid gray;box-sizing: border-box;top: 0;bottom: 0;left: 50%;z-index: 0;}#sk-container-id-1 div.sk-serial {display: flex;flex-direction: column;align-items: center;background-color: white;padding-right: 0.2em;padding-left: 0.2em;position: relative;}#sk-container-id-1 div.sk-item {position: relative;z-index: 1;}#sk-container-id-1 div.sk-parallel {display: flex;align-items: stretch;justify-content: center;background-color: white;position: relative;}#sk-container-id-1 div.sk-item::before, #sk-container-id-1 div.sk-parallel-item::before {content: \"\";position: absolute;border-left: 1px solid gray;box-sizing: border-box;top: 0;bottom: 0;left: 50%;z-index: -1;}#sk-container-id-1 div.sk-parallel-item {display: flex;flex-direction: column;z-index: 1;position: relative;background-color: white;}#sk-container-id-1 div.sk-parallel-item:first-child::after {align-self: flex-end;width: 50%;}#sk-container-id-1 div.sk-parallel-item:last-child::after {align-self: flex-start;width: 50%;}#sk-container-id-1 div.sk-parallel-item:only-child::after {width: 0;}#sk-container-id-1 div.sk-dashed-wrapped {border: 1px dashed gray;margin: 0 0.4em 0.5em 0.4em;box-sizing: border-box;padding-bottom: 0.4em;background-color: white;}#sk-container-id-1 div.sk-label label {font-family: monospace;font-weight: bold;display: inline-block;line-height: 1.2em;}#sk-container-id-1 div.sk-label-container {text-align: center;}#sk-container-id-1 div.sk-container {/* jupyter's `normalize.less` sets `[hidden] { display: none; }` but bootstrap.min.css set `[hidden] { display: none !important; }` so we also need the `!important` here to be able to override the default hidden behavior on the sphinx rendered scikit-learn.org. See: https://github.com/scikit-learn/scikit-learn/issues/21755 */display: inline-block !important;position: relative;}#sk-container-id-1 div.sk-text-repr-fallback {display: none;}</style><div id=\"sk-container-id-1\" class=\"sk-top-container\"><div class=\"sk-text-repr-fallback\"><pre>KMeans(n_clusters=3)</pre><b>In a Jupyter environment, please rerun this cell to show the HTML representation or trust the notebook. <br />On GitHub, the HTML representation is unable to render, please try loading this page with nbviewer.org.</b></div><div class=\"sk-container\" hidden><div class=\"sk-item\"><div class=\"sk-estimator sk-toggleable\"><input class=\"sk-toggleable__control sk-hidden--visually\" id=\"sk-estimator-id-1\" type=\"checkbox\" checked><label for=\"sk-estimator-id-1\" class=\"sk-toggleable__label sk-toggleable__label-arrow\">KMeans</label><div class=\"sk-toggleable__content\"><pre>KMeans(n_clusters=3)</pre></div></div></div></div></div>"
      ],
      "text/plain": [
       "KMeans(n_clusters=3)"
      ]
     },
     "execution_count": 10,
     "metadata": {},
     "output_type": "execute_result"
    }
   ],
   "source": [
    "kmeans_salary = KMeans(n_clusters=3)\n",
    "kmeans_salary.fit(base_salary)"
   ]
  },
  {
   "cell_type": "code",
   "execution_count": 12,
   "metadata": {},
   "outputs": [
    {
     "data": {
      "text/plain": [
       "array([[ 0.07703438,  1.11413572],\n",
       "       [ 0.73953003, -0.72661025],\n",
       "       [-1.63312883, -0.77505093]])"
      ]
     },
     "execution_count": 12,
     "metadata": {},
     "output_type": "execute_result"
    }
   ],
   "source": [
    "centroides = kmeans_salary.cluster_centers_\n",
    "centroides"
   ]
  },
  {
   "cell_type": "code",
   "execution_count": 13,
   "metadata": {},
   "outputs": [
    {
     "data": {
      "text/plain": [
       "array([[  41.16666667, 5600.        ],\n",
       "       [  48.33333333, 1800.        ],\n",
       "       [  22.66666667, 1700.        ]])"
      ]
     },
     "execution_count": 13,
     "metadata": {},
     "output_type": "execute_result"
    }
   ],
   "source": [
    "scaler_salary.inverse_transform(kmeans_salary.cluster_centers_)"
   ]
  },
  {
   "cell_type": "code",
   "execution_count": 14,
   "metadata": {},
   "outputs": [
    {
     "data": {
      "text/plain": [
       "array([2, 2, 2, 1, 1, 1, 1, 1, 1, 0, 0, 0, 0, 0, 0], dtype=int32)"
      ]
     },
     "execution_count": 14,
     "metadata": {},
     "output_type": "execute_result"
    }
   ],
   "source": [
    "labels = kmeans_salary.labels_\n",
    "labels"
   ]
  },
  {
   "cell_type": "markdown",
   "metadata": {},
   "source": [
    "Explicação dos rótulos (labels):\n",
    "\n",
    "- 2 representa o grupo com idade de $22.66666667$ e salário de $1700$\n",
    "- 1 representa o grupo com idade de $48.33333333$ e salário de $1800$\n",
    "- 0 representa o grupo com idade de $41.16666667$ e salário de $5600$"
   ]
  },
  {
   "cell_type": "code",
   "execution_count": 16,
   "metadata": {},
   "outputs": [
    {
     "data": {
      "application/vnd.plotly.v1+json": {
       "config": {
        "plotlyServerURL": "https://plot.ly"
       },
       "data": [
        {
         "hovertemplate": "x=%{x}<br>y=%{y}<br>color=%{marker.color}<extra></extra>",
         "legendgroup": "",
         "marker": {
          "color": [
           2,
           2,
           2,
           1,
           1,
           1,
           1,
           1,
           1,
           0,
           0,
           0,
           0,
           0,
           0
          ],
          "coloraxis": "coloraxis",
          "symbol": "circle"
         },
         "mode": "markers",
         "name": "",
         "orientation": "v",
         "showlegend": false,
         "type": "scatter",
         "x": [
          -1.8796388369139148,
          -1.232550056992731,
          -1.78719758263946,
          -0.3081375142481829,
          0.5238337742219104,
          1.170922554143094,
          1.3558050626920037,
          0.6162750284963652,
          1.0784812998686393,
          -0.770343785620457,
          -0.1232550056992733,
          0.06162750284963633,
          -0.1232550056992733,
          0.70871628277082,
          0.70871628277082
         ],
         "xaxis": "x",
         "y": [
          -1.1141357172977029,
          -1.0172543505761635,
          -0.19376273344307876,
          -0.7023899087311605,
          -1.1625764006584725,
          -1.1383560589780877,
          -0.6297288836900059,
          -0.5812882003292362,
          -0.14532205008230906,
          1.2594577673800118,
          0.3875254668861575,
          0.8719323004938544,
          1.7923052843484784,
          0.8234916171330847,
          1.55010186754463
         ],
         "yaxis": "y"
        },
        {
         "hovertemplate": "x=%{x}<br>y=%{y}<br>size=%{marker.size}<extra></extra>",
         "legendgroup": "",
         "marker": {
          "color": "#636efa",
          "size": [
           12,
           12,
           12
          ],
          "sizemode": "area",
          "sizeref": 0.03,
          "symbol": "circle"
         },
         "mode": "markers",
         "name": "",
         "orientation": "v",
         "showlegend": false,
         "type": "scatter",
         "x": [
          0.07703437856204544,
          0.7395300341956381,
          -1.6331288255153686
         ],
         "xaxis": "x",
         "y": [
          1.1141357172977027,
          -0.7266102504115454,
          -0.775050933772315
         ],
         "yaxis": "y"
        }
       ],
       "layout": {
        "template": {
         "data": {
          "bar": [
           {
            "error_x": {
             "color": "#2a3f5f"
            },
            "error_y": {
             "color": "#2a3f5f"
            },
            "marker": {
             "line": {
              "color": "#E5ECF6",
              "width": 0.5
             },
             "pattern": {
              "fillmode": "overlay",
              "size": 10,
              "solidity": 0.2
             }
            },
            "type": "bar"
           }
          ],
          "barpolar": [
           {
            "marker": {
             "line": {
              "color": "#E5ECF6",
              "width": 0.5
             },
             "pattern": {
              "fillmode": "overlay",
              "size": 10,
              "solidity": 0.2
             }
            },
            "type": "barpolar"
           }
          ],
          "carpet": [
           {
            "aaxis": {
             "endlinecolor": "#2a3f5f",
             "gridcolor": "white",
             "linecolor": "white",
             "minorgridcolor": "white",
             "startlinecolor": "#2a3f5f"
            },
            "baxis": {
             "endlinecolor": "#2a3f5f",
             "gridcolor": "white",
             "linecolor": "white",
             "minorgridcolor": "white",
             "startlinecolor": "#2a3f5f"
            },
            "type": "carpet"
           }
          ],
          "choropleth": [
           {
            "colorbar": {
             "outlinewidth": 0,
             "ticks": ""
            },
            "type": "choropleth"
           }
          ],
          "contour": [
           {
            "colorbar": {
             "outlinewidth": 0,
             "ticks": ""
            },
            "colorscale": [
             [
              0,
              "#0d0887"
             ],
             [
              0.1111111111111111,
              "#46039f"
             ],
             [
              0.2222222222222222,
              "#7201a8"
             ],
             [
              0.3333333333333333,
              "#9c179e"
             ],
             [
              0.4444444444444444,
              "#bd3786"
             ],
             [
              0.5555555555555556,
              "#d8576b"
             ],
             [
              0.6666666666666666,
              "#ed7953"
             ],
             [
              0.7777777777777778,
              "#fb9f3a"
             ],
             [
              0.8888888888888888,
              "#fdca26"
             ],
             [
              1,
              "#f0f921"
             ]
            ],
            "type": "contour"
           }
          ],
          "contourcarpet": [
           {
            "colorbar": {
             "outlinewidth": 0,
             "ticks": ""
            },
            "type": "contourcarpet"
           }
          ],
          "heatmap": [
           {
            "colorbar": {
             "outlinewidth": 0,
             "ticks": ""
            },
            "colorscale": [
             [
              0,
              "#0d0887"
             ],
             [
              0.1111111111111111,
              "#46039f"
             ],
             [
              0.2222222222222222,
              "#7201a8"
             ],
             [
              0.3333333333333333,
              "#9c179e"
             ],
             [
              0.4444444444444444,
              "#bd3786"
             ],
             [
              0.5555555555555556,
              "#d8576b"
             ],
             [
              0.6666666666666666,
              "#ed7953"
             ],
             [
              0.7777777777777778,
              "#fb9f3a"
             ],
             [
              0.8888888888888888,
              "#fdca26"
             ],
             [
              1,
              "#f0f921"
             ]
            ],
            "type": "heatmap"
           }
          ],
          "heatmapgl": [
           {
            "colorbar": {
             "outlinewidth": 0,
             "ticks": ""
            },
            "colorscale": [
             [
              0,
              "#0d0887"
             ],
             [
              0.1111111111111111,
              "#46039f"
             ],
             [
              0.2222222222222222,
              "#7201a8"
             ],
             [
              0.3333333333333333,
              "#9c179e"
             ],
             [
              0.4444444444444444,
              "#bd3786"
             ],
             [
              0.5555555555555556,
              "#d8576b"
             ],
             [
              0.6666666666666666,
              "#ed7953"
             ],
             [
              0.7777777777777778,
              "#fb9f3a"
             ],
             [
              0.8888888888888888,
              "#fdca26"
             ],
             [
              1,
              "#f0f921"
             ]
            ],
            "type": "heatmapgl"
           }
          ],
          "histogram": [
           {
            "marker": {
             "pattern": {
              "fillmode": "overlay",
              "size": 10,
              "solidity": 0.2
             }
            },
            "type": "histogram"
           }
          ],
          "histogram2d": [
           {
            "colorbar": {
             "outlinewidth": 0,
             "ticks": ""
            },
            "colorscale": [
             [
              0,
              "#0d0887"
             ],
             [
              0.1111111111111111,
              "#46039f"
             ],
             [
              0.2222222222222222,
              "#7201a8"
             ],
             [
              0.3333333333333333,
              "#9c179e"
             ],
             [
              0.4444444444444444,
              "#bd3786"
             ],
             [
              0.5555555555555556,
              "#d8576b"
             ],
             [
              0.6666666666666666,
              "#ed7953"
             ],
             [
              0.7777777777777778,
              "#fb9f3a"
             ],
             [
              0.8888888888888888,
              "#fdca26"
             ],
             [
              1,
              "#f0f921"
             ]
            ],
            "type": "histogram2d"
           }
          ],
          "histogram2dcontour": [
           {
            "colorbar": {
             "outlinewidth": 0,
             "ticks": ""
            },
            "colorscale": [
             [
              0,
              "#0d0887"
             ],
             [
              0.1111111111111111,
              "#46039f"
             ],
             [
              0.2222222222222222,
              "#7201a8"
             ],
             [
              0.3333333333333333,
              "#9c179e"
             ],
             [
              0.4444444444444444,
              "#bd3786"
             ],
             [
              0.5555555555555556,
              "#d8576b"
             ],
             [
              0.6666666666666666,
              "#ed7953"
             ],
             [
              0.7777777777777778,
              "#fb9f3a"
             ],
             [
              0.8888888888888888,
              "#fdca26"
             ],
             [
              1,
              "#f0f921"
             ]
            ],
            "type": "histogram2dcontour"
           }
          ],
          "mesh3d": [
           {
            "colorbar": {
             "outlinewidth": 0,
             "ticks": ""
            },
            "type": "mesh3d"
           }
          ],
          "parcoords": [
           {
            "line": {
             "colorbar": {
              "outlinewidth": 0,
              "ticks": ""
             }
            },
            "type": "parcoords"
           }
          ],
          "pie": [
           {
            "automargin": true,
            "type": "pie"
           }
          ],
          "scatter": [
           {
            "fillpattern": {
             "fillmode": "overlay",
             "size": 10,
             "solidity": 0.2
            },
            "type": "scatter"
           }
          ],
          "scatter3d": [
           {
            "line": {
             "colorbar": {
              "outlinewidth": 0,
              "ticks": ""
             }
            },
            "marker": {
             "colorbar": {
              "outlinewidth": 0,
              "ticks": ""
             }
            },
            "type": "scatter3d"
           }
          ],
          "scattercarpet": [
           {
            "marker": {
             "colorbar": {
              "outlinewidth": 0,
              "ticks": ""
             }
            },
            "type": "scattercarpet"
           }
          ],
          "scattergeo": [
           {
            "marker": {
             "colorbar": {
              "outlinewidth": 0,
              "ticks": ""
             }
            },
            "type": "scattergeo"
           }
          ],
          "scattergl": [
           {
            "marker": {
             "colorbar": {
              "outlinewidth": 0,
              "ticks": ""
             }
            },
            "type": "scattergl"
           }
          ],
          "scattermapbox": [
           {
            "marker": {
             "colorbar": {
              "outlinewidth": 0,
              "ticks": ""
             }
            },
            "type": "scattermapbox"
           }
          ],
          "scatterpolar": [
           {
            "marker": {
             "colorbar": {
              "outlinewidth": 0,
              "ticks": ""
             }
            },
            "type": "scatterpolar"
           }
          ],
          "scatterpolargl": [
           {
            "marker": {
             "colorbar": {
              "outlinewidth": 0,
              "ticks": ""
             }
            },
            "type": "scatterpolargl"
           }
          ],
          "scatterternary": [
           {
            "marker": {
             "colorbar": {
              "outlinewidth": 0,
              "ticks": ""
             }
            },
            "type": "scatterternary"
           }
          ],
          "surface": [
           {
            "colorbar": {
             "outlinewidth": 0,
             "ticks": ""
            },
            "colorscale": [
             [
              0,
              "#0d0887"
             ],
             [
              0.1111111111111111,
              "#46039f"
             ],
             [
              0.2222222222222222,
              "#7201a8"
             ],
             [
              0.3333333333333333,
              "#9c179e"
             ],
             [
              0.4444444444444444,
              "#bd3786"
             ],
             [
              0.5555555555555556,
              "#d8576b"
             ],
             [
              0.6666666666666666,
              "#ed7953"
             ],
             [
              0.7777777777777778,
              "#fb9f3a"
             ],
             [
              0.8888888888888888,
              "#fdca26"
             ],
             [
              1,
              "#f0f921"
             ]
            ],
            "type": "surface"
           }
          ],
          "table": [
           {
            "cells": {
             "fill": {
              "color": "#EBF0F8"
             },
             "line": {
              "color": "white"
             }
            },
            "header": {
             "fill": {
              "color": "#C8D4E3"
             },
             "line": {
              "color": "white"
             }
            },
            "type": "table"
           }
          ]
         },
         "layout": {
          "annotationdefaults": {
           "arrowcolor": "#2a3f5f",
           "arrowhead": 0,
           "arrowwidth": 1
          },
          "autotypenumbers": "strict",
          "coloraxis": {
           "colorbar": {
            "outlinewidth": 0,
            "ticks": ""
           }
          },
          "colorscale": {
           "diverging": [
            [
             0,
             "#8e0152"
            ],
            [
             0.1,
             "#c51b7d"
            ],
            [
             0.2,
             "#de77ae"
            ],
            [
             0.3,
             "#f1b6da"
            ],
            [
             0.4,
             "#fde0ef"
            ],
            [
             0.5,
             "#f7f7f7"
            ],
            [
             0.6,
             "#e6f5d0"
            ],
            [
             0.7,
             "#b8e186"
            ],
            [
             0.8,
             "#7fbc41"
            ],
            [
             0.9,
             "#4d9221"
            ],
            [
             1,
             "#276419"
            ]
           ],
           "sequential": [
            [
             0,
             "#0d0887"
            ],
            [
             0.1111111111111111,
             "#46039f"
            ],
            [
             0.2222222222222222,
             "#7201a8"
            ],
            [
             0.3333333333333333,
             "#9c179e"
            ],
            [
             0.4444444444444444,
             "#bd3786"
            ],
            [
             0.5555555555555556,
             "#d8576b"
            ],
            [
             0.6666666666666666,
             "#ed7953"
            ],
            [
             0.7777777777777778,
             "#fb9f3a"
            ],
            [
             0.8888888888888888,
             "#fdca26"
            ],
            [
             1,
             "#f0f921"
            ]
           ],
           "sequentialminus": [
            [
             0,
             "#0d0887"
            ],
            [
             0.1111111111111111,
             "#46039f"
            ],
            [
             0.2222222222222222,
             "#7201a8"
            ],
            [
             0.3333333333333333,
             "#9c179e"
            ],
            [
             0.4444444444444444,
             "#bd3786"
            ],
            [
             0.5555555555555556,
             "#d8576b"
            ],
            [
             0.6666666666666666,
             "#ed7953"
            ],
            [
             0.7777777777777778,
             "#fb9f3a"
            ],
            [
             0.8888888888888888,
             "#fdca26"
            ],
            [
             1,
             "#f0f921"
            ]
           ]
          },
          "colorway": [
           "#636efa",
           "#EF553B",
           "#00cc96",
           "#ab63fa",
           "#FFA15A",
           "#19d3f3",
           "#FF6692",
           "#B6E880",
           "#FF97FF",
           "#FECB52"
          ],
          "font": {
           "color": "#2a3f5f"
          },
          "geo": {
           "bgcolor": "white",
           "lakecolor": "white",
           "landcolor": "#E5ECF6",
           "showlakes": true,
           "showland": true,
           "subunitcolor": "white"
          },
          "hoverlabel": {
           "align": "left"
          },
          "hovermode": "closest",
          "mapbox": {
           "style": "light"
          },
          "paper_bgcolor": "white",
          "plot_bgcolor": "#E5ECF6",
          "polar": {
           "angularaxis": {
            "gridcolor": "white",
            "linecolor": "white",
            "ticks": ""
           },
           "bgcolor": "#E5ECF6",
           "radialaxis": {
            "gridcolor": "white",
            "linecolor": "white",
            "ticks": ""
           }
          },
          "scene": {
           "xaxis": {
            "backgroundcolor": "#E5ECF6",
            "gridcolor": "white",
            "gridwidth": 2,
            "linecolor": "white",
            "showbackground": true,
            "ticks": "",
            "zerolinecolor": "white"
           },
           "yaxis": {
            "backgroundcolor": "#E5ECF6",
            "gridcolor": "white",
            "gridwidth": 2,
            "linecolor": "white",
            "showbackground": true,
            "ticks": "",
            "zerolinecolor": "white"
           },
           "zaxis": {
            "backgroundcolor": "#E5ECF6",
            "gridcolor": "white",
            "gridwidth": 2,
            "linecolor": "white",
            "showbackground": true,
            "ticks": "",
            "zerolinecolor": "white"
           }
          },
          "shapedefaults": {
           "line": {
            "color": "#2a3f5f"
           }
          },
          "ternary": {
           "aaxis": {
            "gridcolor": "white",
            "linecolor": "white",
            "ticks": ""
           },
           "baxis": {
            "gridcolor": "white",
            "linecolor": "white",
            "ticks": ""
           },
           "bgcolor": "#E5ECF6",
           "caxis": {
            "gridcolor": "white",
            "linecolor": "white",
            "ticks": ""
           }
          },
          "title": {
           "x": 0.05
          },
          "xaxis": {
           "automargin": true,
           "gridcolor": "white",
           "linecolor": "white",
           "ticks": "",
           "title": {
            "standoff": 15
           },
           "zerolinecolor": "white",
           "zerolinewidth": 2
          },
          "yaxis": {
           "automargin": true,
           "gridcolor": "white",
           "linecolor": "white",
           "ticks": "",
           "title": {
            "standoff": 15
           },
           "zerolinecolor": "white",
           "zerolinewidth": 2
          }
         }
        }
       }
      }
     },
     "metadata": {},
     "output_type": "display_data"
    }
   ],
   "source": [
    "graph1 = px.scatter(x = base_salary[:, 0], y = base_salary[:, 1], color=labels)\n",
    "graph2 = px.scatter(x = centroides[:, 0], y = centroides[:, 1], size=[12, 12, 12])\n",
    "graph3 = go.Figure(data = graph1.data + graph2.data)\n",
    "graph3.show()"
   ]
  },
  {
   "cell_type": "markdown",
   "metadata": {},
   "source": [
    "# Dados randômicos"
   ]
  },
  {
   "cell_type": "code",
   "execution_count": 35,
   "metadata": {},
   "outputs": [],
   "source": [
    "from sklearn.datasets import make_blobs"
   ]
  },
  {
   "cell_type": "code",
   "execution_count": 40,
   "metadata": {},
   "outputs": [],
   "source": [
    "X_random, y_random = make_blobs(n_samples=200, centers=5, random_state=42)"
   ]
  },
  {
   "cell_type": "code",
   "execution_count": 41,
   "metadata": {},
   "outputs": [
    {
     "data": {
      "text/plain": [
       "array([[ -8.0799236 ,  -7.21461083],\n",
       "       [ -2.42215055,   8.71527878],\n",
       "       [  0.57421589,   2.75398778],\n",
       "       [ -8.01291141,   8.13703255],\n",
       "       [  5.1618204 ,   2.27015436],\n",
       "       [ -8.55733589,   6.7008234 ],\n",
       "       [  1.30385601,   3.9480044 ],\n",
       "       [  2.24639272,   4.17404396],\n",
       "       [ -7.10308998,  -6.1661091 ],\n",
       "       [  6.04267315,   0.57131862],\n",
       "       [  3.66519717,   2.76025429],\n",
       "       [ -4.7356831 ,  -6.24619057],\n",
       "       [ -6.30873668,  -5.74454395],\n",
       "       [ -6.81534717,  -7.95785437],\n",
       "       [ -9.76525823,   7.26399756],\n",
       "       [  2.00328403,   3.15892219],\n",
       "       [ -2.1475616 ,   8.36916637],\n",
       "       [  3.0323956 ,   2.15780354],\n",
       "       [  2.3450188 ,   3.33422061],\n",
       "       [ -9.09089591,   6.07573973],\n",
       "       [ -8.76852567,   6.93820932],\n",
       "       [ -9.42769251,   8.17312501],\n",
       "       [  3.44857534,   2.62972329],\n",
       "       [ -3.05358035,   9.12520872],\n",
       "       [ -9.65654844,   9.41591019],\n",
       "       [ -1.4781981 ,   9.94556625],\n",
       "       [ -3.10983631,   8.72259238],\n",
       "       [  4.60516707,   0.80449165],\n",
       "       [ -3.83738367,   9.21114736],\n",
       "       [ -6.3645795 ,  -3.0273781 ],\n",
       "       [-12.0795951 ,   6.29913527],\n",
       "       [ -7.20591645,   5.89338154],\n",
       "       [ -8.99011285,   7.91184012],\n",
       "       [ -6.193367  ,  -8.49282546],\n",
       "       [ -2.54502366,  10.57892978],\n",
       "       [ -8.02546564,   7.95315176],\n",
       "       [-10.35769772,   6.83928884],\n",
       "       [  3.08921541,   2.04173266],\n",
       "       [ -8.48131227,   6.63061332],\n",
       "       [ -2.72886951,   9.3713987 ],\n",
       "       [ -6.25395984,  -7.73726715],\n",
       "       [  3.47344384,   5.12072238],\n",
       "       [ -1.59379551,   9.34303724],\n",
       "       [ -7.95051969,  -6.39763718],\n",
       "       [ -4.56496862,  -8.74737479],\n",
       "       [ -8.72481041,   7.98565359],\n",
       "       [ -8.74133179,   7.91867994],\n",
       "       [ -0.10159549,   3.63569653],\n",
       "       [  1.57223476,   4.78430149],\n",
       "       [  0.42787258,   3.56207653],\n",
       "       [  1.55126193,   4.39350149],\n",
       "       [  4.11011863,   2.48643712],\n",
       "       [ -8.85922935,   7.4408503 ],\n",
       "       [ -3.6601912 ,   9.38998415],\n",
       "       [  2.02754393,   4.20843215],\n",
       "       [  3.64934251,   1.40687195],\n",
       "       [ -2.96983639,  10.07140835],\n",
       "       [ -2.52269485,   7.9565752 ],\n",
       "       [  3.85662554,   1.65110817],\n",
       "       [ -9.27837224,   7.45426349],\n",
       "       [  4.24777068,   0.50965474],\n",
       "       [  1.19680304,   3.84006571],\n",
       "       [ -7.54141366,  -6.02767626],\n",
       "       [  4.86733877,   3.28031244],\n",
       "       [ -8.09103415,   7.93389318],\n",
       "       [  1.91354009,   4.56316328],\n",
       "       [  1.26316757,   4.31184534],\n",
       "       [ -7.3545725 ,  -7.53343883],\n",
       "       [  3.7204546 ,   3.52310409],\n",
       "       [ -2.30033403,   7.054616  ],\n",
       "       [  1.20007984,   4.40513877],\n",
       "       [ -2.62484591,   8.71318243],\n",
       "       [ -3.18611962,   9.62596242],\n",
       "       [  4.17548269,   3.39410399],\n",
       "       [ -1.04354885,   8.78850983],\n",
       "       [ -9.66732277,   6.76334188],\n",
       "       [  5.22673593,   4.16362531],\n",
       "       [ -6.9567289 ,  -6.53895762],\n",
       "       [  2.64642005,   4.78979707],\n",
       "       [ -2.97261532,   8.54855637],\n",
       "       [ -6.70529438,   5.37143512],\n",
       "       [ -3.6155326 ,   7.8180795 ],\n",
       "       [ -1.68665271,   7.79344248],\n",
       "       [ -6.52183983,  -6.31932507],\n",
       "       [ -8.25729656,  -7.81793463],\n",
       "       [ -9.84434514,   6.1093343 ],\n",
       "       [ -7.68021688,   8.11518561],\n",
       "       [ -8.63926806,   6.72330604],\n",
       "       [  0.30916571,   5.51532393],\n",
       "       [ -2.41743685,   7.02671721],\n",
       "       [ -6.36459192,  -6.36632364],\n",
       "       [ -8.15637479,   7.01325616],\n",
       "       [ -7.67214793,  -6.99484603],\n",
       "       [  4.29716432,   1.17089241],\n",
       "       [  3.57757512,   2.44676211],\n",
       "       [ -6.70644627,  -6.49479221],\n",
       "       [  5.78270165,   2.72510272],\n",
       "       [ -7.14428402,  -4.15994043],\n",
       "       [  2.0037871 ,   3.87279292],\n",
       "       [ -2.17793419,   9.98983126],\n",
       "       [  3.95985411,   2.20542338],\n",
       "       [ -2.98837186,   8.82862715],\n",
       "       [  4.93599911,   2.23422496],\n",
       "       [ -7.35155906,  -5.791159  ],\n",
       "       [  5.79847442,   1.15248737],\n",
       "       [  4.47859312,   2.37722054],\n",
       "       [ -7.56066286,   6.73195153],\n",
       "       [  4.64499229,   1.73858255],\n",
       "       [ -6.40638957,  -6.95293851],\n",
       "       [  2.11997633,   3.38844177],\n",
       "       [ -7.65245241,  -7.1169282 ],\n",
       "       [ -7.07287352,   7.72850463],\n",
       "       [ -2.97867201,   9.55684617],\n",
       "       [  3.40292813,   0.65271307],\n",
       "       [ -7.57141661,   6.61585345],\n",
       "       [ -2.18511365,   8.62920385],\n",
       "       [  2.3332078 ,   5.63680777],\n",
       "       [  4.73695639,   2.94181467],\n",
       "       [  1.12388556,   4.65337073],\n",
       "       [  2.99741997,   4.01439417],\n",
       "       [ -3.52202874,   9.32853346],\n",
       "       [ -2.16557933,   7.25124597],\n",
       "       [ -3.98771961,   8.29444192],\n",
       "       [ -8.5141614 ,   7.19337986],\n",
       "       [-10.09921171,   8.24138486],\n",
       "       [  4.7395302 ,   1.46969403],\n",
       "       [  2.26726681,   3.65450838],\n",
       "       [  3.20174036,   3.6922759 ],\n",
       "       [ -6.66553345,  -8.12584837],\n",
       "       [ -6.82141847,  -8.02307989],\n",
       "       [ -3.34841515,   8.70507375],\n",
       "       [ -9.81983641,   7.78562639],\n",
       "       [ -7.19489644,  -6.12114037],\n",
       "       [ -9.05600896,   8.42229977],\n",
       "       [ -2.44166942,   7.58953794],\n",
       "       [  2.89462087,   4.34479356],\n",
       "       [  2.97272407,   3.5845479 ],\n",
       "       [  5.461939  ,   3.86996267],\n",
       "       [ -7.5949309 ,  -6.20051184],\n",
       "       [ -8.90476978,  -6.69365528],\n",
       "       [  3.93782574,   1.64550754],\n",
       "       [ -8.39450833,   8.09815697],\n",
       "       [  4.70010905,   4.4364118 ],\n",
       "       [ -3.4172217 ,   7.60198243],\n",
       "       [  1.90776039,   5.39926787],\n",
       "       [  4.89976163,   2.75499256],\n",
       "       [ -6.60293639,  -6.05292634],\n",
       "       [ -1.77073104,   9.18565441],\n",
       "       [  4.93295131,   1.25881827],\n",
       "       [  2.54164675,   5.69419047],\n",
       "       [ -7.25231094,   6.08570742],\n",
       "       [ -7.39705447,   5.88766076],\n",
       "       [ -1.6966718 ,  10.37052616],\n",
       "       [  2.71244423,   3.76023108],\n",
       "       [ -7.12501531,  -7.63384576],\n",
       "       [  0.95467981,   4.01907207],\n",
       "       [ -7.36499074,  -6.79823545],\n",
       "       [  2.09810479,   3.48428984],\n",
       "       [  1.18257839,   3.56205891],\n",
       "       [  2.72110762,   1.94665581],\n",
       "       [ -7.72642091,  -8.39495682],\n",
       "       [  5.60325497,   2.38595061],\n",
       "       [ -2.58120774,  10.01781903],\n",
       "       [ -7.76914162,  -7.69591988],\n",
       "       [ -5.79657595,  -5.82630754],\n",
       "       [  4.21210317,   3.35315327],\n",
       "       [ -1.03130358,   8.49601591],\n",
       "       [  2.43523169,   3.597727  ],\n",
       "       [ -5.92562543,  -6.22871834],\n",
       "       [  6.50565335,   2.4470026 ],\n",
       "       [  5.45339605,   0.74230537],\n",
       "       [ -9.04645001,   6.83052198],\n",
       "       [ -6.8666253 ,  -5.42657552],\n",
       "       [ -8.29123038,   7.12133026],\n",
       "       [  3.22450809,   1.55252436],\n",
       "       [ -7.60999382,  -6.663651  ],\n",
       "       [ -7.93872788,   7.63082244],\n",
       "       [  5.43091078,   1.06378223],\n",
       "       [ -7.675164  ,   7.33375598],\n",
       "       [  4.44751787,   2.27471703],\n",
       "       [ -3.11090424,  10.86656431],\n",
       "       [  6.52606474,   2.1477475 ],\n",
       "       [ -6.71617156,   8.35598818],\n",
       "       [ -2.26723535,   7.10100588],\n",
       "       [ -6.37463991,  -6.0143544 ],\n",
       "       [  2.04681041,   4.65944985],\n",
       "       [  2.01005346,   3.26419718],\n",
       "       [ -7.53284895,   7.34452676],\n",
       "       [ -3.31769123,   8.51252908],\n",
       "       [  4.89037169,   2.31961789],\n",
       "       [ -7.76348463,  -6.72638449],\n",
       "       [ -7.32614214,  -6.0237108 ],\n",
       "       [ -5.12894273,   9.83618863],\n",
       "       [ -2.14780202,  10.55232269],\n",
       "       [ -6.83405535,  -7.53170994],\n",
       "       [  0.70206703,   5.99291032],\n",
       "       [  2.36405621,   6.0376224 ],\n",
       "       [ -4.23411546,   8.4519986 ],\n",
       "       [  2.87995986,   4.00151303],\n",
       "       [  4.89742923,   1.89872377]])"
      ]
     },
     "execution_count": 41,
     "metadata": {},
     "output_type": "execute_result"
    }
   ],
   "source": [
    "X_random"
   ]
  },
  {
   "cell_type": "code",
   "execution_count": 42,
   "metadata": {},
   "outputs": [
    {
     "data": {
      "text/plain": [
       "array([2, 0, 4, 3, 1, 3, 4, 4, 2, 1, 1, 2, 2, 2, 3, 4, 0, 1, 4, 3, 3, 3,\n",
       "       1, 0, 3, 0, 0, 1, 0, 2, 3, 3, 3, 2, 0, 3, 3, 1, 3, 0, 2, 4, 0, 2,\n",
       "       2, 3, 3, 4, 4, 4, 4, 1, 3, 0, 4, 1, 0, 0, 1, 3, 1, 4, 2, 1, 3, 4,\n",
       "       4, 2, 1, 0, 4, 0, 0, 4, 0, 3, 1, 2, 4, 0, 3, 0, 0, 2, 2, 3, 3, 3,\n",
       "       4, 0, 2, 3, 2, 1, 1, 2, 1, 2, 4, 0, 1, 0, 1, 2, 1, 1, 3, 1, 2, 4,\n",
       "       2, 3, 0, 1, 3, 0, 4, 1, 4, 4, 0, 0, 0, 3, 3, 1, 4, 4, 2, 2, 0, 3,\n",
       "       2, 3, 0, 4, 4, 1, 2, 2, 1, 3, 1, 0, 4, 1, 2, 0, 1, 4, 3, 3, 0, 4,\n",
       "       2, 4, 2, 4, 4, 1, 2, 1, 0, 2, 2, 4, 0, 4, 2, 1, 1, 3, 2, 3, 1, 2,\n",
       "       3, 1, 3, 1, 0, 1, 3, 0, 2, 4, 4, 3, 0, 1, 2, 2, 0, 0, 2, 4, 4, 0,\n",
       "       4, 1])"
      ]
     },
     "execution_count": 42,
     "metadata": {},
     "output_type": "execute_result"
    }
   ],
   "source": [
    "y_random"
   ]
  },
  {
   "cell_type": "code",
   "execution_count": 50,
   "metadata": {},
   "outputs": [
    {
     "data": {
      "application/vnd.plotly.v1+json": {
       "config": {
        "plotlyServerURL": "https://plot.ly"
       },
       "data": [
        {
         "hovertemplate": "x=%{x}<br>y=%{y}<br>color=%{marker.color}<extra></extra>",
         "legendgroup": "",
         "marker": {
          "color": [
           2,
           0,
           4,
           3,
           1,
           3,
           4,
           4,
           2,
           1,
           1,
           2,
           2,
           2,
           3,
           4,
           0,
           1,
           4,
           3,
           3,
           3,
           1,
           0,
           3,
           0,
           0,
           1,
           0,
           2,
           3,
           3,
           3,
           2,
           0,
           3,
           3,
           1,
           3,
           0,
           2,
           4,
           0,
           2,
           2,
           3,
           3,
           4,
           4,
           4,
           4,
           1,
           3,
           0,
           4,
           1,
           0,
           0,
           1,
           3,
           1,
           4,
           2,
           1,
           3,
           4,
           4,
           2,
           1,
           0,
           4,
           0,
           0,
           4,
           0,
           3,
           1,
           2,
           4,
           0,
           3,
           0,
           0,
           2,
           2,
           3,
           3,
           3,
           4,
           0,
           2,
           3,
           2,
           1,
           1,
           2,
           1,
           2,
           4,
           0,
           1,
           0,
           1,
           2,
           1,
           1,
           3,
           1,
           2,
           4,
           2,
           3,
           0,
           1,
           3,
           0,
           4,
           1,
           4,
           4,
           0,
           0,
           0,
           3,
           3,
           1,
           4,
           4,
           2,
           2,
           0,
           3,
           2,
           3,
           0,
           4,
           4,
           1,
           2,
           2,
           1,
           3,
           1,
           0,
           4,
           1,
           2,
           0,
           1,
           4,
           3,
           3,
           0,
           4,
           2,
           4,
           2,
           4,
           4,
           1,
           2,
           1,
           0,
           2,
           2,
           4,
           0,
           4,
           2,
           1,
           1,
           3,
           2,
           3,
           1,
           2,
           3,
           1,
           3,
           1,
           0,
           1,
           3,
           0,
           2,
           4,
           4,
           3,
           0,
           1,
           2,
           2,
           0,
           0,
           2,
           4,
           4,
           0,
           4,
           1
          ],
          "coloraxis": "coloraxis",
          "symbol": "circle"
         },
         "mode": "markers",
         "name": "",
         "orientation": "v",
         "showlegend": false,
         "type": "scatter",
         "x": [
          -8.079923598207046,
          -2.422150554814579,
          0.5742158933668515,
          -8.01291140764798,
          5.161820401844999,
          -8.557335888900978,
          1.3038560136117396,
          2.2463927166745923,
          -7.103089976477121,
          6.042673147164201,
          3.66519716600078,
          -4.735683101825945,
          -6.308736680458103,
          -6.815347172055807,
          -9.765258228214094,
          2.0032840269614867,
          -2.147561598005116,
          3.032395601666874,
          2.345018795202265,
          -9.09089590802917,
          -8.76852567164599,
          -9.427692513580222,
          3.448575339025453,
          -3.053580347577933,
          -9.656548439869482,
          -1.4781981005567992,
          -3.109836312971555,
          4.605167066522858,
          -3.837383671951181,
          -6.3645795048452225,
          -12.079595096705082,
          -7.2059164527043755,
          -8.990112851671594,
          -6.193367000776757,
          -2.5450236621627016,
          -8.02546563779705,
          -10.357697722590023,
          3.0892154051619687,
          -8.481312270670964,
          -2.728869510890262,
          -6.253959843386264,
          3.4734438426592176,
          -1.593795505350676,
          -7.950519689212382,
          -4.564968624477761,
          -8.724810411384762,
          -8.741331791643292,
          -0.10159548944563124,
          1.572234763384932,
          0.42787257606980855,
          1.551261929245853,
          4.110118632461063,
          -8.859229350600158,
          -3.6601912004750528,
          2.0275439345823587,
          3.649342511097413,
          -2.9698363940125376,
          -2.5226948477906843,
          3.856625543891864,
          -9.278372243332994,
          4.247770683095943,
          1.196803038071664,
          -7.5414136559196585,
          4.867338770832231,
          -8.091034151512748,
          1.913540086407318,
          1.2631675733104777,
          -7.354572502312227,
          3.720454601994298,
          -2.300334028047995,
          1.2000798392977443,
          -2.6248459054409907,
          -3.186119623358709,
          4.175482692375732,
          -1.0435488541311961,
          -9.667322767558083,
          5.226735930028371,
          -6.956728900565374,
          2.646420051916331,
          -2.9726153158652124,
          -6.705294381979744,
          -3.6155325970587784,
          -1.686652710949561,
          -6.521839830802987,
          -8.257296559108362,
          -9.844345138135711,
          -7.680216883135943,
          -8.639268061062541,
          0.30916570577329816,
          -2.4174368465172478,
          -6.36459192394261,
          -8.156374785341047,
          -7.6721479295839705,
          4.297164319701332,
          3.5775751225019965,
          -6.706446265300088,
          5.782701650743122,
          -7.1442840243892265,
          2.003787098871786,
          -2.1779341916491863,
          3.9598541146496107,
          -2.9883718608980403,
          4.935999113292677,
          -7.351559056940704,
          5.798474415235505,
          4.478593124562092,
          -7.560662860847586,
          4.644992292870563,
          -6.406389566577725,
          2.1199763334130073,
          -7.652452405688842,
          -7.072873516354914,
          -2.978672008987702,
          3.4029281253500194,
          -7.571416607449388,
          -2.185113653657955,
          2.3332078004621803,
          4.736956385576142,
          1.1238855635158176,
          2.997419968281927,
          -3.5220287433871738,
          -2.1655793334842888,
          -3.9877196134201776,
          -8.514161404147568,
          -10.099211710971055,
          4.739530201315743,
          2.2672668059728984,
          3.2017403555854624,
          -6.665533447021066,
          -6.82141847270527,
          -3.348415146275389,
          -9.819836407683962,
          -7.194896435791616,
          -9.056008959863231,
          -2.4416694183648264,
          2.894620871584854,
          2.972724073050226,
          5.4619389962225915,
          -7.594930900411239,
          -8.904769777808877,
          3.937825742350749,
          -8.394508328489781,
          4.7001090461691275,
          -3.417221698573961,
          1.9077603896115578,
          4.899761630476525,
          -6.602936391821251,
          -1.7707310430573397,
          4.932951309526783,
          2.541646749105348,
          -7.252310940490658,
          -7.397054467569895,
          -1.6966718006585522,
          2.712444226575288,
          -7.125015307154141,
          0.9546798054815813,
          -7.3649907389803735,
          2.098104793057902,
          1.1825783926833995,
          2.72110762092906,
          -7.726420909219675,
          5.6032549654724235,
          -2.581207744633084,
          -7.769141620776793,
          -5.7965759479759935,
          4.212103168081848,
          -1.031303578311234,
          2.4352316891398,
          -5.925625427658067,
          6.505653347372858,
          5.453396053597771,
          -9.046450006993286,
          -6.866625299273363,
          -8.291230375465972,
          3.224508094177687,
          -7.6099938228684065,
          -7.93872788120276,
          5.430910783271148,
          -7.675164004481051,
          4.447517871446979,
          -3.110904235282147,
          6.526064737438632,
          -6.716171559623377,
          -2.267235351486716,
          -6.374639912170813,
          2.0468104091231183,
          2.010053462017261,
          -7.532848949481681,
          -3.317691225945938,
          4.890371686573978,
          -7.763484627352403,
          -7.326142143218291,
          -5.128942727142494,
          -2.147802017544336,
          -6.834055351247456,
          0.7020670278435335,
          2.364056210641335,
          -4.234115455565783,
          2.879959858066195,
          4.897429226950866
         ],
         "xaxis": "x",
         "y": [
          -7.214610829116895,
          8.715278777732454,
          2.7539877815443536,
          8.137032551499342,
          2.2701543571739182,
          6.70082339567811,
          3.948004404209062,
          4.174043956702704,
          -6.1661090991838545,
          0.5713186211484511,
          2.760254287683184,
          -6.2461905709579355,
          -5.744543953095348,
          -7.9578543712052525,
          7.263997559436903,
          3.1589221912831,
          8.369166373593197,
          2.157803542473036,
          3.334220612368586,
          6.075739733533854,
          6.938209318636943,
          8.173125012519728,
          2.6297232925745617,
          9.125208717908187,
          9.415910191184164,
          9.94556624731452,
          8.722592378405045,
          0.8044916463212,
          9.211147364067445,
          -3.0273781026212254,
          6.2991352741644135,
          5.893381537538071,
          7.91184012198328,
          -8.492825464465598,
          10.578929784012328,
          7.953151757422315,
          6.839288842632452,
          2.0417326587467595,
          6.630613320238049,
          9.371398699710069,
          -7.737267149692229,
          5.120722382006115,
          9.343037237858006,
          -6.397637178032761,
          -8.747374785867695,
          7.98565359001975,
          7.918679940935617,
          3.635696534240148,
          4.784301488268408,
          3.562076532967136,
          4.393501493278545,
          2.486437117054088,
          7.440850298807485,
          9.389984146543993,
          4.208432149685651,
          1.40687195433796,
          10.071408354417237,
          7.956575199242421,
          1.6511081677350563,
          7.454263492784794,
          0.5096547358086134,
          3.8400657142679155,
          -6.0276762584797225,
          3.2803124382231603,
          7.933893180932168,
          4.56316327801985,
          4.311845342397117,
          -7.533438825849658,
          3.5231040889582714,
          7.054616004318546,
          4.405138767412821,
          8.713182432609033,
          9.62596241703919,
          3.3941039930328594,
          8.788509827711787,
          6.763341875301734,
          4.16362530975071,
          -6.538957618459302,
          4.789797065185189,
          8.548556374628065,
          5.371435115976201,
          7.818079504117651,
          7.793442478227299,
          -6.319325066907712,
          -7.8179346331910695,
          6.109334302710971,
          8.115185609461639,
          6.723306038339908,
          5.515323930086321,
          7.026717213597429,
          -6.366323642363738,
          7.013256158905247,
          -6.994846034742846,
          1.170892414719113,
          2.4467621145759137,
          -6.49479221354711,
          2.7251027166275064,
          -4.159940426686328,
          3.8727929170007704,
          9.98983125532068,
          2.2054233811017356,
          8.828627151534505,
          2.234224956120621,
          -5.791158996308581,
          1.1524873655890215,
          2.3772205407552702,
          6.731951526662873,
          1.7385825505655852,
          -6.95293850593282,
          3.3884417720654425,
          -7.1169282000159555,
          7.728504626459658,
          9.556846171784287,
          0.6527130708564557,
          6.615853449879922,
          8.629203847782005,
          5.636807772870461,
          2.9418146744736213,
          4.653370727427415,
          4.01439417441877,
          9.328533460793595,
          7.251245972835587,
          8.294441919803614,
          7.193379861131018,
          8.24138486255348,
          1.4696940298245327,
          3.654508380549779,
          3.692275903816204,
          -8.125848371987935,
          -8.023079891106569,
          8.705073752347108,
          7.7856263897619735,
          -6.121140372782679,
          8.422299767485892,
          7.589537941984865,
          4.344793561659261,
          3.5845479002585057,
          3.869962666594679,
          -6.200511844341271,
          -6.693655278506519,
          1.6455075373429637,
          8.09815696892804,
          4.436411796426018,
          7.60198242686303,
          5.399267867894371,
          2.7549925557180424,
          -6.052926344239923,
          9.185654409388292,
          1.258818265914364,
          5.694190468923487,
          6.085707416671854,
          5.887660764319264,
          10.370526156769145,
          3.760231084035073,
          -7.633845757633436,
          4.0190720708996155,
          -6.798235453889624,
          3.484289844408797,
          3.5620589104768867,
          1.946655808491515,
          -8.39495681796181,
          2.3859506108772304,
          10.017819026090345,
          -7.695919878241385,
          -5.826307541241044,
          3.353153270565757,
          8.496015909924674,
          3.597727003116934,
          -6.228718341970149,
          2.4470026048525195,
          0.7423053675067768,
          6.830521980839871,
          -5.42657551611863,
          7.121330263064809,
          1.552524361175373,
          -6.663651003693972,
          7.630822436375312,
          1.063782229145993,
          7.33375597651829,
          2.2747170262743444,
          10.86656431270726,
          2.147747496772571,
          8.35598817604985,
          7.101005883540523,
          -6.014354399105825,
          4.659449847166359,
          3.2641971844350772,
          7.3445267571314625,
          8.512529084613785,
          2.319617893437708,
          -6.726384487330419,
          -6.023710798952474,
          9.836188632573545,
          10.55232269466429,
          -7.531709940881764,
          5.992910321775263,
          6.037622395136795,
          8.45199859895735,
          4.001513025957482,
          1.8987237681745648
         ],
         "yaxis": "y"
        }
       ],
       "layout": {
        "coloraxis": {
         "colorbar": {
          "title": {
           "text": "color"
          }
         },
         "colorscale": [
          [
           0,
           "#0d0887"
          ],
          [
           0.1111111111111111,
           "#46039f"
          ],
          [
           0.2222222222222222,
           "#7201a8"
          ],
          [
           0.3333333333333333,
           "#9c179e"
          ],
          [
           0.4444444444444444,
           "#bd3786"
          ],
          [
           0.5555555555555556,
           "#d8576b"
          ],
          [
           0.6666666666666666,
           "#ed7953"
          ],
          [
           0.7777777777777778,
           "#fb9f3a"
          ],
          [
           0.8888888888888888,
           "#fdca26"
          ],
          [
           1,
           "#f0f921"
          ]
         ]
        },
        "legend": {
         "tracegroupgap": 0
        },
        "margin": {
         "t": 60
        },
        "template": {
         "data": {
          "bar": [
           {
            "error_x": {
             "color": "#2a3f5f"
            },
            "error_y": {
             "color": "#2a3f5f"
            },
            "marker": {
             "line": {
              "color": "#E5ECF6",
              "width": 0.5
             },
             "pattern": {
              "fillmode": "overlay",
              "size": 10,
              "solidity": 0.2
             }
            },
            "type": "bar"
           }
          ],
          "barpolar": [
           {
            "marker": {
             "line": {
              "color": "#E5ECF6",
              "width": 0.5
             },
             "pattern": {
              "fillmode": "overlay",
              "size": 10,
              "solidity": 0.2
             }
            },
            "type": "barpolar"
           }
          ],
          "carpet": [
           {
            "aaxis": {
             "endlinecolor": "#2a3f5f",
             "gridcolor": "white",
             "linecolor": "white",
             "minorgridcolor": "white",
             "startlinecolor": "#2a3f5f"
            },
            "baxis": {
             "endlinecolor": "#2a3f5f",
             "gridcolor": "white",
             "linecolor": "white",
             "minorgridcolor": "white",
             "startlinecolor": "#2a3f5f"
            },
            "type": "carpet"
           }
          ],
          "choropleth": [
           {
            "colorbar": {
             "outlinewidth": 0,
             "ticks": ""
            },
            "type": "choropleth"
           }
          ],
          "contour": [
           {
            "colorbar": {
             "outlinewidth": 0,
             "ticks": ""
            },
            "colorscale": [
             [
              0,
              "#0d0887"
             ],
             [
              0.1111111111111111,
              "#46039f"
             ],
             [
              0.2222222222222222,
              "#7201a8"
             ],
             [
              0.3333333333333333,
              "#9c179e"
             ],
             [
              0.4444444444444444,
              "#bd3786"
             ],
             [
              0.5555555555555556,
              "#d8576b"
             ],
             [
              0.6666666666666666,
              "#ed7953"
             ],
             [
              0.7777777777777778,
              "#fb9f3a"
             ],
             [
              0.8888888888888888,
              "#fdca26"
             ],
             [
              1,
              "#f0f921"
             ]
            ],
            "type": "contour"
           }
          ],
          "contourcarpet": [
           {
            "colorbar": {
             "outlinewidth": 0,
             "ticks": ""
            },
            "type": "contourcarpet"
           }
          ],
          "heatmap": [
           {
            "colorbar": {
             "outlinewidth": 0,
             "ticks": ""
            },
            "colorscale": [
             [
              0,
              "#0d0887"
             ],
             [
              0.1111111111111111,
              "#46039f"
             ],
             [
              0.2222222222222222,
              "#7201a8"
             ],
             [
              0.3333333333333333,
              "#9c179e"
             ],
             [
              0.4444444444444444,
              "#bd3786"
             ],
             [
              0.5555555555555556,
              "#d8576b"
             ],
             [
              0.6666666666666666,
              "#ed7953"
             ],
             [
              0.7777777777777778,
              "#fb9f3a"
             ],
             [
              0.8888888888888888,
              "#fdca26"
             ],
             [
              1,
              "#f0f921"
             ]
            ],
            "type": "heatmap"
           }
          ],
          "heatmapgl": [
           {
            "colorbar": {
             "outlinewidth": 0,
             "ticks": ""
            },
            "colorscale": [
             [
              0,
              "#0d0887"
             ],
             [
              0.1111111111111111,
              "#46039f"
             ],
             [
              0.2222222222222222,
              "#7201a8"
             ],
             [
              0.3333333333333333,
              "#9c179e"
             ],
             [
              0.4444444444444444,
              "#bd3786"
             ],
             [
              0.5555555555555556,
              "#d8576b"
             ],
             [
              0.6666666666666666,
              "#ed7953"
             ],
             [
              0.7777777777777778,
              "#fb9f3a"
             ],
             [
              0.8888888888888888,
              "#fdca26"
             ],
             [
              1,
              "#f0f921"
             ]
            ],
            "type": "heatmapgl"
           }
          ],
          "histogram": [
           {
            "marker": {
             "pattern": {
              "fillmode": "overlay",
              "size": 10,
              "solidity": 0.2
             }
            },
            "type": "histogram"
           }
          ],
          "histogram2d": [
           {
            "colorbar": {
             "outlinewidth": 0,
             "ticks": ""
            },
            "colorscale": [
             [
              0,
              "#0d0887"
             ],
             [
              0.1111111111111111,
              "#46039f"
             ],
             [
              0.2222222222222222,
              "#7201a8"
             ],
             [
              0.3333333333333333,
              "#9c179e"
             ],
             [
              0.4444444444444444,
              "#bd3786"
             ],
             [
              0.5555555555555556,
              "#d8576b"
             ],
             [
              0.6666666666666666,
              "#ed7953"
             ],
             [
              0.7777777777777778,
              "#fb9f3a"
             ],
             [
              0.8888888888888888,
              "#fdca26"
             ],
             [
              1,
              "#f0f921"
             ]
            ],
            "type": "histogram2d"
           }
          ],
          "histogram2dcontour": [
           {
            "colorbar": {
             "outlinewidth": 0,
             "ticks": ""
            },
            "colorscale": [
             [
              0,
              "#0d0887"
             ],
             [
              0.1111111111111111,
              "#46039f"
             ],
             [
              0.2222222222222222,
              "#7201a8"
             ],
             [
              0.3333333333333333,
              "#9c179e"
             ],
             [
              0.4444444444444444,
              "#bd3786"
             ],
             [
              0.5555555555555556,
              "#d8576b"
             ],
             [
              0.6666666666666666,
              "#ed7953"
             ],
             [
              0.7777777777777778,
              "#fb9f3a"
             ],
             [
              0.8888888888888888,
              "#fdca26"
             ],
             [
              1,
              "#f0f921"
             ]
            ],
            "type": "histogram2dcontour"
           }
          ],
          "mesh3d": [
           {
            "colorbar": {
             "outlinewidth": 0,
             "ticks": ""
            },
            "type": "mesh3d"
           }
          ],
          "parcoords": [
           {
            "line": {
             "colorbar": {
              "outlinewidth": 0,
              "ticks": ""
             }
            },
            "type": "parcoords"
           }
          ],
          "pie": [
           {
            "automargin": true,
            "type": "pie"
           }
          ],
          "scatter": [
           {
            "fillpattern": {
             "fillmode": "overlay",
             "size": 10,
             "solidity": 0.2
            },
            "type": "scatter"
           }
          ],
          "scatter3d": [
           {
            "line": {
             "colorbar": {
              "outlinewidth": 0,
              "ticks": ""
             }
            },
            "marker": {
             "colorbar": {
              "outlinewidth": 0,
              "ticks": ""
             }
            },
            "type": "scatter3d"
           }
          ],
          "scattercarpet": [
           {
            "marker": {
             "colorbar": {
              "outlinewidth": 0,
              "ticks": ""
             }
            },
            "type": "scattercarpet"
           }
          ],
          "scattergeo": [
           {
            "marker": {
             "colorbar": {
              "outlinewidth": 0,
              "ticks": ""
             }
            },
            "type": "scattergeo"
           }
          ],
          "scattergl": [
           {
            "marker": {
             "colorbar": {
              "outlinewidth": 0,
              "ticks": ""
             }
            },
            "type": "scattergl"
           }
          ],
          "scattermapbox": [
           {
            "marker": {
             "colorbar": {
              "outlinewidth": 0,
              "ticks": ""
             }
            },
            "type": "scattermapbox"
           }
          ],
          "scatterpolar": [
           {
            "marker": {
             "colorbar": {
              "outlinewidth": 0,
              "ticks": ""
             }
            },
            "type": "scatterpolar"
           }
          ],
          "scatterpolargl": [
           {
            "marker": {
             "colorbar": {
              "outlinewidth": 0,
              "ticks": ""
             }
            },
            "type": "scatterpolargl"
           }
          ],
          "scatterternary": [
           {
            "marker": {
             "colorbar": {
              "outlinewidth": 0,
              "ticks": ""
             }
            },
            "type": "scatterternary"
           }
          ],
          "surface": [
           {
            "colorbar": {
             "outlinewidth": 0,
             "ticks": ""
            },
            "colorscale": [
             [
              0,
              "#0d0887"
             ],
             [
              0.1111111111111111,
              "#46039f"
             ],
             [
              0.2222222222222222,
              "#7201a8"
             ],
             [
              0.3333333333333333,
              "#9c179e"
             ],
             [
              0.4444444444444444,
              "#bd3786"
             ],
             [
              0.5555555555555556,
              "#d8576b"
             ],
             [
              0.6666666666666666,
              "#ed7953"
             ],
             [
              0.7777777777777778,
              "#fb9f3a"
             ],
             [
              0.8888888888888888,
              "#fdca26"
             ],
             [
              1,
              "#f0f921"
             ]
            ],
            "type": "surface"
           }
          ],
          "table": [
           {
            "cells": {
             "fill": {
              "color": "#EBF0F8"
             },
             "line": {
              "color": "white"
             }
            },
            "header": {
             "fill": {
              "color": "#C8D4E3"
             },
             "line": {
              "color": "white"
             }
            },
            "type": "table"
           }
          ]
         },
         "layout": {
          "annotationdefaults": {
           "arrowcolor": "#2a3f5f",
           "arrowhead": 0,
           "arrowwidth": 1
          },
          "autotypenumbers": "strict",
          "coloraxis": {
           "colorbar": {
            "outlinewidth": 0,
            "ticks": ""
           }
          },
          "colorscale": {
           "diverging": [
            [
             0,
             "#8e0152"
            ],
            [
             0.1,
             "#c51b7d"
            ],
            [
             0.2,
             "#de77ae"
            ],
            [
             0.3,
             "#f1b6da"
            ],
            [
             0.4,
             "#fde0ef"
            ],
            [
             0.5,
             "#f7f7f7"
            ],
            [
             0.6,
             "#e6f5d0"
            ],
            [
             0.7,
             "#b8e186"
            ],
            [
             0.8,
             "#7fbc41"
            ],
            [
             0.9,
             "#4d9221"
            ],
            [
             1,
             "#276419"
            ]
           ],
           "sequential": [
            [
             0,
             "#0d0887"
            ],
            [
             0.1111111111111111,
             "#46039f"
            ],
            [
             0.2222222222222222,
             "#7201a8"
            ],
            [
             0.3333333333333333,
             "#9c179e"
            ],
            [
             0.4444444444444444,
             "#bd3786"
            ],
            [
             0.5555555555555556,
             "#d8576b"
            ],
            [
             0.6666666666666666,
             "#ed7953"
            ],
            [
             0.7777777777777778,
             "#fb9f3a"
            ],
            [
             0.8888888888888888,
             "#fdca26"
            ],
            [
             1,
             "#f0f921"
            ]
           ],
           "sequentialminus": [
            [
             0,
             "#0d0887"
            ],
            [
             0.1111111111111111,
             "#46039f"
            ],
            [
             0.2222222222222222,
             "#7201a8"
            ],
            [
             0.3333333333333333,
             "#9c179e"
            ],
            [
             0.4444444444444444,
             "#bd3786"
            ],
            [
             0.5555555555555556,
             "#d8576b"
            ],
            [
             0.6666666666666666,
             "#ed7953"
            ],
            [
             0.7777777777777778,
             "#fb9f3a"
            ],
            [
             0.8888888888888888,
             "#fdca26"
            ],
            [
             1,
             "#f0f921"
            ]
           ]
          },
          "colorway": [
           "#636efa",
           "#EF553B",
           "#00cc96",
           "#ab63fa",
           "#FFA15A",
           "#19d3f3",
           "#FF6692",
           "#B6E880",
           "#FF97FF",
           "#FECB52"
          ],
          "font": {
           "color": "#2a3f5f"
          },
          "geo": {
           "bgcolor": "white",
           "lakecolor": "white",
           "landcolor": "#E5ECF6",
           "showlakes": true,
           "showland": true,
           "subunitcolor": "white"
          },
          "hoverlabel": {
           "align": "left"
          },
          "hovermode": "closest",
          "mapbox": {
           "style": "light"
          },
          "paper_bgcolor": "white",
          "plot_bgcolor": "#E5ECF6",
          "polar": {
           "angularaxis": {
            "gridcolor": "white",
            "linecolor": "white",
            "ticks": ""
           },
           "bgcolor": "#E5ECF6",
           "radialaxis": {
            "gridcolor": "white",
            "linecolor": "white",
            "ticks": ""
           }
          },
          "scene": {
           "xaxis": {
            "backgroundcolor": "#E5ECF6",
            "gridcolor": "white",
            "gridwidth": 2,
            "linecolor": "white",
            "showbackground": true,
            "ticks": "",
            "zerolinecolor": "white"
           },
           "yaxis": {
            "backgroundcolor": "#E5ECF6",
            "gridcolor": "white",
            "gridwidth": 2,
            "linecolor": "white",
            "showbackground": true,
            "ticks": "",
            "zerolinecolor": "white"
           },
           "zaxis": {
            "backgroundcolor": "#E5ECF6",
            "gridcolor": "white",
            "gridwidth": 2,
            "linecolor": "white",
            "showbackground": true,
            "ticks": "",
            "zerolinecolor": "white"
           }
          },
          "shapedefaults": {
           "line": {
            "color": "#2a3f5f"
           }
          },
          "ternary": {
           "aaxis": {
            "gridcolor": "white",
            "linecolor": "white",
            "ticks": ""
           },
           "baxis": {
            "gridcolor": "white",
            "linecolor": "white",
            "ticks": ""
           },
           "bgcolor": "#E5ECF6",
           "caxis": {
            "gridcolor": "white",
            "linecolor": "white",
            "ticks": ""
           }
          },
          "title": {
           "x": 0.05
          },
          "xaxis": {
           "automargin": true,
           "gridcolor": "white",
           "linecolor": "white",
           "ticks": "",
           "title": {
            "standoff": 15
           },
           "zerolinecolor": "white",
           "zerolinewidth": 2
          },
          "yaxis": {
           "automargin": true,
           "gridcolor": "white",
           "linecolor": "white",
           "ticks": "",
           "title": {
            "standoff": 15
           },
           "zerolinecolor": "white",
           "zerolinewidth": 2
          }
         }
        },
        "xaxis": {
         "anchor": "y",
         "domain": [
          0,
          1
         ],
         "title": {
          "text": "x"
         }
        },
        "yaxis": {
         "anchor": "x",
         "domain": [
          0,
          1
         ],
         "title": {
          "text": "y"
         }
        }
       }
      }
     },
     "metadata": {},
     "output_type": "display_data"
    }
   ],
   "source": [
    "px.scatter(x = X_random[:, 0], y = X_random[:, 1], color=y_random)"
   ]
  },
  {
   "cell_type": "code",
   "execution_count": 44,
   "metadata": {},
   "outputs": [
    {
     "name": "stderr",
     "output_type": "stream",
     "text": [
      "/home/gabriel/Projects/machine-learning-e-data-science-com-python/.venv/lib/python3.10/site-packages/sklearn/cluster/_kmeans.py:1412: FutureWarning:\n",
      "\n",
      "The default value of `n_init` will change from 10 to 'auto' in 1.4. Set the value of `n_init` explicitly to suppress the warning\n",
      "\n"
     ]
    },
    {
     "data": {
      "text/html": [
       "<style>#sk-container-id-2 {color: black;}#sk-container-id-2 pre{padding: 0;}#sk-container-id-2 div.sk-toggleable {background-color: white;}#sk-container-id-2 label.sk-toggleable__label {cursor: pointer;display: block;width: 100%;margin-bottom: 0;padding: 0.3em;box-sizing: border-box;text-align: center;}#sk-container-id-2 label.sk-toggleable__label-arrow:before {content: \"▸\";float: left;margin-right: 0.25em;color: #696969;}#sk-container-id-2 label.sk-toggleable__label-arrow:hover:before {color: black;}#sk-container-id-2 div.sk-estimator:hover label.sk-toggleable__label-arrow:before {color: black;}#sk-container-id-2 div.sk-toggleable__content {max-height: 0;max-width: 0;overflow: hidden;text-align: left;background-color: #f0f8ff;}#sk-container-id-2 div.sk-toggleable__content pre {margin: 0.2em;color: black;border-radius: 0.25em;background-color: #f0f8ff;}#sk-container-id-2 input.sk-toggleable__control:checked~div.sk-toggleable__content {max-height: 200px;max-width: 100%;overflow: auto;}#sk-container-id-2 input.sk-toggleable__control:checked~label.sk-toggleable__label-arrow:before {content: \"▾\";}#sk-container-id-2 div.sk-estimator input.sk-toggleable__control:checked~label.sk-toggleable__label {background-color: #d4ebff;}#sk-container-id-2 div.sk-label input.sk-toggleable__control:checked~label.sk-toggleable__label {background-color: #d4ebff;}#sk-container-id-2 input.sk-hidden--visually {border: 0;clip: rect(1px 1px 1px 1px);clip: rect(1px, 1px, 1px, 1px);height: 1px;margin: -1px;overflow: hidden;padding: 0;position: absolute;width: 1px;}#sk-container-id-2 div.sk-estimator {font-family: monospace;background-color: #f0f8ff;border: 1px dotted black;border-radius: 0.25em;box-sizing: border-box;margin-bottom: 0.5em;}#sk-container-id-2 div.sk-estimator:hover {background-color: #d4ebff;}#sk-container-id-2 div.sk-parallel-item::after {content: \"\";width: 100%;border-bottom: 1px solid gray;flex-grow: 1;}#sk-container-id-2 div.sk-label:hover label.sk-toggleable__label {background-color: #d4ebff;}#sk-container-id-2 div.sk-serial::before {content: \"\";position: absolute;border-left: 1px solid gray;box-sizing: border-box;top: 0;bottom: 0;left: 50%;z-index: 0;}#sk-container-id-2 div.sk-serial {display: flex;flex-direction: column;align-items: center;background-color: white;padding-right: 0.2em;padding-left: 0.2em;position: relative;}#sk-container-id-2 div.sk-item {position: relative;z-index: 1;}#sk-container-id-2 div.sk-parallel {display: flex;align-items: stretch;justify-content: center;background-color: white;position: relative;}#sk-container-id-2 div.sk-item::before, #sk-container-id-2 div.sk-parallel-item::before {content: \"\";position: absolute;border-left: 1px solid gray;box-sizing: border-box;top: 0;bottom: 0;left: 50%;z-index: -1;}#sk-container-id-2 div.sk-parallel-item {display: flex;flex-direction: column;z-index: 1;position: relative;background-color: white;}#sk-container-id-2 div.sk-parallel-item:first-child::after {align-self: flex-end;width: 50%;}#sk-container-id-2 div.sk-parallel-item:last-child::after {align-self: flex-start;width: 50%;}#sk-container-id-2 div.sk-parallel-item:only-child::after {width: 0;}#sk-container-id-2 div.sk-dashed-wrapped {border: 1px dashed gray;margin: 0 0.4em 0.5em 0.4em;box-sizing: border-box;padding-bottom: 0.4em;background-color: white;}#sk-container-id-2 div.sk-label label {font-family: monospace;font-weight: bold;display: inline-block;line-height: 1.2em;}#sk-container-id-2 div.sk-label-container {text-align: center;}#sk-container-id-2 div.sk-container {/* jupyter's `normalize.less` sets `[hidden] { display: none; }` but bootstrap.min.css set `[hidden] { display: none !important; }` so we also need the `!important` here to be able to override the default hidden behavior on the sphinx rendered scikit-learn.org. See: https://github.com/scikit-learn/scikit-learn/issues/21755 */display: inline-block !important;position: relative;}#sk-container-id-2 div.sk-text-repr-fallback {display: none;}</style><div id=\"sk-container-id-2\" class=\"sk-top-container\"><div class=\"sk-text-repr-fallback\"><pre>KMeans(n_clusters=5)</pre><b>In a Jupyter environment, please rerun this cell to show the HTML representation or trust the notebook. <br />On GitHub, the HTML representation is unable to render, please try loading this page with nbviewer.org.</b></div><div class=\"sk-container\" hidden><div class=\"sk-item\"><div class=\"sk-estimator sk-toggleable\"><input class=\"sk-toggleable__control sk-hidden--visually\" id=\"sk-estimator-id-2\" type=\"checkbox\" checked><label for=\"sk-estimator-id-2\" class=\"sk-toggleable__label sk-toggleable__label-arrow\">KMeans</label><div class=\"sk-toggleable__content\"><pre>KMeans(n_clusters=5)</pre></div></div></div></div></div>"
      ],
      "text/plain": [
       "KMeans(n_clusters=5)"
      ]
     },
     "execution_count": 44,
     "metadata": {},
     "output_type": "execute_result"
    }
   ],
   "source": [
    "kmeans_blobs = KMeans(n_clusters=5)\n",
    "kmeans_blobs.fit(X_random)"
   ]
  },
  {
   "cell_type": "code",
   "execution_count": 45,
   "metadata": {},
   "outputs": [
    {
     "data": {
      "text/plain": [
       "array([1, 0, 4, 3, 2, 3, 4, 4, 1, 2, 2, 1, 1, 1, 3, 4, 0, 2, 4, 3, 3, 3,\n",
       "       2, 0, 3, 0, 0, 2, 0, 1, 3, 3, 3, 1, 0, 3, 3, 2, 3, 0, 1, 4, 0, 1,\n",
       "       1, 3, 3, 4, 4, 4, 4, 2, 3, 0, 4, 2, 0, 0, 2, 3, 2, 4, 1, 2, 3, 4,\n",
       "       4, 1, 2, 0, 4, 0, 0, 2, 0, 3, 2, 1, 4, 0, 3, 0, 0, 1, 1, 3, 3, 3,\n",
       "       4, 0, 1, 3, 1, 2, 2, 1, 2, 1, 4, 0, 2, 0, 2, 1, 2, 2, 3, 2, 1, 4,\n",
       "       1, 3, 0, 2, 3, 0, 4, 2, 4, 4, 0, 0, 0, 3, 3, 2, 4, 4, 1, 1, 0, 3,\n",
       "       1, 3, 0, 4, 4, 2, 1, 1, 2, 3, 2, 0, 4, 2, 1, 0, 2, 4, 3, 3, 0, 4,\n",
       "       1, 4, 1, 4, 4, 2, 1, 2, 0, 1, 1, 2, 0, 4, 1, 2, 2, 3, 1, 3, 2, 1,\n",
       "       3, 2, 3, 2, 0, 2, 3, 0, 1, 4, 4, 3, 0, 2, 1, 1, 0, 0, 1, 4, 4, 0,\n",
       "       4, 2], dtype=int32)"
      ]
     },
     "execution_count": 45,
     "metadata": {},
     "output_type": "execute_result"
    }
   ],
   "source": [
    "labels = kmeans_blobs.predict(X_random)\n",
    "labels"
   ]
  },
  {
   "cell_type": "code",
   "execution_count": 46,
   "metadata": {},
   "outputs": [
    {
     "data": {
      "text/plain": [
       "array([[-2.71038846,  8.8833827 ],\n",
       "       [-6.96417736, -6.7006896 ],\n",
       "       [ 4.54996635,  2.16341636],\n",
       "       [-8.56863765,  7.26172299],\n",
       "       [ 1.88691387,  4.23193965]])"
      ]
     },
     "execution_count": 46,
     "metadata": {},
     "output_type": "execute_result"
    }
   ],
   "source": [
    "centroides = kmeans_blobs.cluster_centers_\n",
    "centroides"
   ]
  },
  {
   "cell_type": "code",
   "execution_count": 49,
   "metadata": {},
   "outputs": [
    {
     "data": {
      "application/vnd.plotly.v1+json": {
       "config": {
        "plotlyServerURL": "https://plot.ly"
       },
       "data": [
        {
         "hovertemplate": "x=%{x}<br>y=%{y}<br>color=%{marker.color}<extra></extra>",
         "legendgroup": "",
         "marker": {
          "color": [
           1,
           0,
           4,
           3,
           2,
           3,
           4,
           4,
           1,
           2,
           2,
           1,
           1,
           1,
           3,
           4,
           0,
           2,
           4,
           3,
           3,
           3,
           2,
           0,
           3,
           0,
           0,
           2,
           0,
           1,
           3,
           3,
           3,
           1,
           0,
           3,
           3,
           2,
           3,
           0,
           1,
           4,
           0,
           1,
           1,
           3,
           3,
           4,
           4,
           4,
           4,
           2,
           3,
           0,
           4,
           2,
           0,
           0,
           2,
           3,
           2,
           4,
           1,
           2,
           3,
           4,
           4,
           1,
           2,
           0,
           4,
           0,
           0,
           2,
           0,
           3,
           2,
           1,
           4,
           0,
           3,
           0,
           0,
           1,
           1,
           3,
           3,
           3,
           4,
           0,
           1,
           3,
           1,
           2,
           2,
           1,
           2,
           1,
           4,
           0,
           2,
           0,
           2,
           1,
           2,
           2,
           3,
           2,
           1,
           4,
           1,
           3,
           0,
           2,
           3,
           0,
           4,
           2,
           4,
           4,
           0,
           0,
           0,
           3,
           3,
           2,
           4,
           4,
           1,
           1,
           0,
           3,
           1,
           3,
           0,
           4,
           4,
           2,
           1,
           1,
           2,
           3,
           2,
           0,
           4,
           2,
           1,
           0,
           2,
           4,
           3,
           3,
           0,
           4,
           1,
           4,
           1,
           4,
           4,
           2,
           1,
           2,
           0,
           1,
           1,
           2,
           0,
           4,
           1,
           2,
           2,
           3,
           1,
           3,
           2,
           1,
           3,
           2,
           3,
           2,
           0,
           2,
           3,
           0,
           1,
           4,
           4,
           3,
           0,
           2,
           1,
           1,
           0,
           0,
           1,
           4,
           4,
           0,
           4,
           2
          ],
          "coloraxis": "coloraxis",
          "symbol": "circle"
         },
         "mode": "markers",
         "name": "",
         "orientation": "v",
         "showlegend": false,
         "type": "scatter",
         "x": [
          -8.079923598207046,
          -2.422150554814579,
          0.5742158933668515,
          -8.01291140764798,
          5.161820401844999,
          -8.557335888900978,
          1.3038560136117396,
          2.2463927166745923,
          -7.103089976477121,
          6.042673147164201,
          3.66519716600078,
          -4.735683101825945,
          -6.308736680458103,
          -6.815347172055807,
          -9.765258228214094,
          2.0032840269614867,
          -2.147561598005116,
          3.032395601666874,
          2.345018795202265,
          -9.09089590802917,
          -8.76852567164599,
          -9.427692513580222,
          3.448575339025453,
          -3.053580347577933,
          -9.656548439869482,
          -1.4781981005567992,
          -3.109836312971555,
          4.605167066522858,
          -3.837383671951181,
          -6.3645795048452225,
          -12.079595096705082,
          -7.2059164527043755,
          -8.990112851671594,
          -6.193367000776757,
          -2.5450236621627016,
          -8.02546563779705,
          -10.357697722590023,
          3.0892154051619687,
          -8.481312270670964,
          -2.728869510890262,
          -6.253959843386264,
          3.4734438426592176,
          -1.593795505350676,
          -7.950519689212382,
          -4.564968624477761,
          -8.724810411384762,
          -8.741331791643292,
          -0.10159548944563124,
          1.572234763384932,
          0.42787257606980855,
          1.551261929245853,
          4.110118632461063,
          -8.859229350600158,
          -3.6601912004750528,
          2.0275439345823587,
          3.649342511097413,
          -2.9698363940125376,
          -2.5226948477906843,
          3.856625543891864,
          -9.278372243332994,
          4.247770683095943,
          1.196803038071664,
          -7.5414136559196585,
          4.867338770832231,
          -8.091034151512748,
          1.913540086407318,
          1.2631675733104777,
          -7.354572502312227,
          3.720454601994298,
          -2.300334028047995,
          1.2000798392977443,
          -2.6248459054409907,
          -3.186119623358709,
          4.175482692375732,
          -1.0435488541311961,
          -9.667322767558083,
          5.226735930028371,
          -6.956728900565374,
          2.646420051916331,
          -2.9726153158652124,
          -6.705294381979744,
          -3.6155325970587784,
          -1.686652710949561,
          -6.521839830802987,
          -8.257296559108362,
          -9.844345138135711,
          -7.680216883135943,
          -8.639268061062541,
          0.30916570577329816,
          -2.4174368465172478,
          -6.36459192394261,
          -8.156374785341047,
          -7.6721479295839705,
          4.297164319701332,
          3.5775751225019965,
          -6.706446265300088,
          5.782701650743122,
          -7.1442840243892265,
          2.003787098871786,
          -2.1779341916491863,
          3.9598541146496107,
          -2.9883718608980403,
          4.935999113292677,
          -7.351559056940704,
          5.798474415235505,
          4.478593124562092,
          -7.560662860847586,
          4.644992292870563,
          -6.406389566577725,
          2.1199763334130073,
          -7.652452405688842,
          -7.072873516354914,
          -2.978672008987702,
          3.4029281253500194,
          -7.571416607449388,
          -2.185113653657955,
          2.3332078004621803,
          4.736956385576142,
          1.1238855635158176,
          2.997419968281927,
          -3.5220287433871738,
          -2.1655793334842888,
          -3.9877196134201776,
          -8.514161404147568,
          -10.099211710971055,
          4.739530201315743,
          2.2672668059728984,
          3.2017403555854624,
          -6.665533447021066,
          -6.82141847270527,
          -3.348415146275389,
          -9.819836407683962,
          -7.194896435791616,
          -9.056008959863231,
          -2.4416694183648264,
          2.894620871584854,
          2.972724073050226,
          5.4619389962225915,
          -7.594930900411239,
          -8.904769777808877,
          3.937825742350749,
          -8.394508328489781,
          4.7001090461691275,
          -3.417221698573961,
          1.9077603896115578,
          4.899761630476525,
          -6.602936391821251,
          -1.7707310430573397,
          4.932951309526783,
          2.541646749105348,
          -7.252310940490658,
          -7.397054467569895,
          -1.6966718006585522,
          2.712444226575288,
          -7.125015307154141,
          0.9546798054815813,
          -7.3649907389803735,
          2.098104793057902,
          1.1825783926833995,
          2.72110762092906,
          -7.726420909219675,
          5.6032549654724235,
          -2.581207744633084,
          -7.769141620776793,
          -5.7965759479759935,
          4.212103168081848,
          -1.031303578311234,
          2.4352316891398,
          -5.925625427658067,
          6.505653347372858,
          5.453396053597771,
          -9.046450006993286,
          -6.866625299273363,
          -8.291230375465972,
          3.224508094177687,
          -7.6099938228684065,
          -7.93872788120276,
          5.430910783271148,
          -7.675164004481051,
          4.447517871446979,
          -3.110904235282147,
          6.526064737438632,
          -6.716171559623377,
          -2.267235351486716,
          -6.374639912170813,
          2.0468104091231183,
          2.010053462017261,
          -7.532848949481681,
          -3.317691225945938,
          4.890371686573978,
          -7.763484627352403,
          -7.326142143218291,
          -5.128942727142494,
          -2.147802017544336,
          -6.834055351247456,
          0.7020670278435335,
          2.364056210641335,
          -4.234115455565783,
          2.879959858066195,
          4.897429226950866
         ],
         "xaxis": "x",
         "y": [
          -7.214610829116895,
          8.715278777732454,
          2.7539877815443536,
          8.137032551499342,
          2.2701543571739182,
          6.70082339567811,
          3.948004404209062,
          4.174043956702704,
          -6.1661090991838545,
          0.5713186211484511,
          2.760254287683184,
          -6.2461905709579355,
          -5.744543953095348,
          -7.9578543712052525,
          7.263997559436903,
          3.1589221912831,
          8.369166373593197,
          2.157803542473036,
          3.334220612368586,
          6.075739733533854,
          6.938209318636943,
          8.173125012519728,
          2.6297232925745617,
          9.125208717908187,
          9.415910191184164,
          9.94556624731452,
          8.722592378405045,
          0.8044916463212,
          9.211147364067445,
          -3.0273781026212254,
          6.2991352741644135,
          5.893381537538071,
          7.91184012198328,
          -8.492825464465598,
          10.578929784012328,
          7.953151757422315,
          6.839288842632452,
          2.0417326587467595,
          6.630613320238049,
          9.371398699710069,
          -7.737267149692229,
          5.120722382006115,
          9.343037237858006,
          -6.397637178032761,
          -8.747374785867695,
          7.98565359001975,
          7.918679940935617,
          3.635696534240148,
          4.784301488268408,
          3.562076532967136,
          4.393501493278545,
          2.486437117054088,
          7.440850298807485,
          9.389984146543993,
          4.208432149685651,
          1.40687195433796,
          10.071408354417237,
          7.956575199242421,
          1.6511081677350563,
          7.454263492784794,
          0.5096547358086134,
          3.8400657142679155,
          -6.0276762584797225,
          3.2803124382231603,
          7.933893180932168,
          4.56316327801985,
          4.311845342397117,
          -7.533438825849658,
          3.5231040889582714,
          7.054616004318546,
          4.405138767412821,
          8.713182432609033,
          9.62596241703919,
          3.3941039930328594,
          8.788509827711787,
          6.763341875301734,
          4.16362530975071,
          -6.538957618459302,
          4.789797065185189,
          8.548556374628065,
          5.371435115976201,
          7.818079504117651,
          7.793442478227299,
          -6.319325066907712,
          -7.8179346331910695,
          6.109334302710971,
          8.115185609461639,
          6.723306038339908,
          5.515323930086321,
          7.026717213597429,
          -6.366323642363738,
          7.013256158905247,
          -6.994846034742846,
          1.170892414719113,
          2.4467621145759137,
          -6.49479221354711,
          2.7251027166275064,
          -4.159940426686328,
          3.8727929170007704,
          9.98983125532068,
          2.2054233811017356,
          8.828627151534505,
          2.234224956120621,
          -5.791158996308581,
          1.1524873655890215,
          2.3772205407552702,
          6.731951526662873,
          1.7385825505655852,
          -6.95293850593282,
          3.3884417720654425,
          -7.1169282000159555,
          7.728504626459658,
          9.556846171784287,
          0.6527130708564557,
          6.615853449879922,
          8.629203847782005,
          5.636807772870461,
          2.9418146744736213,
          4.653370727427415,
          4.01439417441877,
          9.328533460793595,
          7.251245972835587,
          8.294441919803614,
          7.193379861131018,
          8.24138486255348,
          1.4696940298245327,
          3.654508380549779,
          3.692275903816204,
          -8.125848371987935,
          -8.023079891106569,
          8.705073752347108,
          7.7856263897619735,
          -6.121140372782679,
          8.422299767485892,
          7.589537941984865,
          4.344793561659261,
          3.5845479002585057,
          3.869962666594679,
          -6.200511844341271,
          -6.693655278506519,
          1.6455075373429637,
          8.09815696892804,
          4.436411796426018,
          7.60198242686303,
          5.399267867894371,
          2.7549925557180424,
          -6.052926344239923,
          9.185654409388292,
          1.258818265914364,
          5.694190468923487,
          6.085707416671854,
          5.887660764319264,
          10.370526156769145,
          3.760231084035073,
          -7.633845757633436,
          4.0190720708996155,
          -6.798235453889624,
          3.484289844408797,
          3.5620589104768867,
          1.946655808491515,
          -8.39495681796181,
          2.3859506108772304,
          10.017819026090345,
          -7.695919878241385,
          -5.826307541241044,
          3.353153270565757,
          8.496015909924674,
          3.597727003116934,
          -6.228718341970149,
          2.4470026048525195,
          0.7423053675067768,
          6.830521980839871,
          -5.42657551611863,
          7.121330263064809,
          1.552524361175373,
          -6.663651003693972,
          7.630822436375312,
          1.063782229145993,
          7.33375597651829,
          2.2747170262743444,
          10.86656431270726,
          2.147747496772571,
          8.35598817604985,
          7.101005883540523,
          -6.014354399105825,
          4.659449847166359,
          3.2641971844350772,
          7.3445267571314625,
          8.512529084613785,
          2.319617893437708,
          -6.726384487330419,
          -6.023710798952474,
          9.836188632573545,
          10.55232269466429,
          -7.531709940881764,
          5.992910321775263,
          6.037622395136795,
          8.45199859895735,
          4.001513025957482,
          1.8987237681745648
         ],
         "yaxis": "y"
        },
        {
         "hovertemplate": "x=%{x}<br>y=%{y}<br>size=%{marker.size}<extra></extra>",
         "legendgroup": "",
         "marker": {
          "color": "#636efa",
          "size": [
           5,
           5,
           5,
           5,
           5
          ],
          "sizemode": "area",
          "sizeref": 0.0125,
          "symbol": "circle"
         },
         "mode": "markers",
         "name": "",
         "orientation": "v",
         "showlegend": false,
         "type": "scatter",
         "x": [
          -2.7103884609063775,
          -6.964177358657732,
          4.549966348548139,
          -8.568637650920756,
          1.8869138731888109
         ],
         "xaxis": "x",
         "y": [
          8.88338270358331,
          -6.7006895991677276,
          2.163416363940515,
          7.261722986111918,
          4.231939651531993
         ],
         "yaxis": "y"
        }
       ],
       "layout": {
        "template": {
         "data": {
          "bar": [
           {
            "error_x": {
             "color": "#2a3f5f"
            },
            "error_y": {
             "color": "#2a3f5f"
            },
            "marker": {
             "line": {
              "color": "#E5ECF6",
              "width": 0.5
             },
             "pattern": {
              "fillmode": "overlay",
              "size": 10,
              "solidity": 0.2
             }
            },
            "type": "bar"
           }
          ],
          "barpolar": [
           {
            "marker": {
             "line": {
              "color": "#E5ECF6",
              "width": 0.5
             },
             "pattern": {
              "fillmode": "overlay",
              "size": 10,
              "solidity": 0.2
             }
            },
            "type": "barpolar"
           }
          ],
          "carpet": [
           {
            "aaxis": {
             "endlinecolor": "#2a3f5f",
             "gridcolor": "white",
             "linecolor": "white",
             "minorgridcolor": "white",
             "startlinecolor": "#2a3f5f"
            },
            "baxis": {
             "endlinecolor": "#2a3f5f",
             "gridcolor": "white",
             "linecolor": "white",
             "minorgridcolor": "white",
             "startlinecolor": "#2a3f5f"
            },
            "type": "carpet"
           }
          ],
          "choropleth": [
           {
            "colorbar": {
             "outlinewidth": 0,
             "ticks": ""
            },
            "type": "choropleth"
           }
          ],
          "contour": [
           {
            "colorbar": {
             "outlinewidth": 0,
             "ticks": ""
            },
            "colorscale": [
             [
              0,
              "#0d0887"
             ],
             [
              0.1111111111111111,
              "#46039f"
             ],
             [
              0.2222222222222222,
              "#7201a8"
             ],
             [
              0.3333333333333333,
              "#9c179e"
             ],
             [
              0.4444444444444444,
              "#bd3786"
             ],
             [
              0.5555555555555556,
              "#d8576b"
             ],
             [
              0.6666666666666666,
              "#ed7953"
             ],
             [
              0.7777777777777778,
              "#fb9f3a"
             ],
             [
              0.8888888888888888,
              "#fdca26"
             ],
             [
              1,
              "#f0f921"
             ]
            ],
            "type": "contour"
           }
          ],
          "contourcarpet": [
           {
            "colorbar": {
             "outlinewidth": 0,
             "ticks": ""
            },
            "type": "contourcarpet"
           }
          ],
          "heatmap": [
           {
            "colorbar": {
             "outlinewidth": 0,
             "ticks": ""
            },
            "colorscale": [
             [
              0,
              "#0d0887"
             ],
             [
              0.1111111111111111,
              "#46039f"
             ],
             [
              0.2222222222222222,
              "#7201a8"
             ],
             [
              0.3333333333333333,
              "#9c179e"
             ],
             [
              0.4444444444444444,
              "#bd3786"
             ],
             [
              0.5555555555555556,
              "#d8576b"
             ],
             [
              0.6666666666666666,
              "#ed7953"
             ],
             [
              0.7777777777777778,
              "#fb9f3a"
             ],
             [
              0.8888888888888888,
              "#fdca26"
             ],
             [
              1,
              "#f0f921"
             ]
            ],
            "type": "heatmap"
           }
          ],
          "heatmapgl": [
           {
            "colorbar": {
             "outlinewidth": 0,
             "ticks": ""
            },
            "colorscale": [
             [
              0,
              "#0d0887"
             ],
             [
              0.1111111111111111,
              "#46039f"
             ],
             [
              0.2222222222222222,
              "#7201a8"
             ],
             [
              0.3333333333333333,
              "#9c179e"
             ],
             [
              0.4444444444444444,
              "#bd3786"
             ],
             [
              0.5555555555555556,
              "#d8576b"
             ],
             [
              0.6666666666666666,
              "#ed7953"
             ],
             [
              0.7777777777777778,
              "#fb9f3a"
             ],
             [
              0.8888888888888888,
              "#fdca26"
             ],
             [
              1,
              "#f0f921"
             ]
            ],
            "type": "heatmapgl"
           }
          ],
          "histogram": [
           {
            "marker": {
             "pattern": {
              "fillmode": "overlay",
              "size": 10,
              "solidity": 0.2
             }
            },
            "type": "histogram"
           }
          ],
          "histogram2d": [
           {
            "colorbar": {
             "outlinewidth": 0,
             "ticks": ""
            },
            "colorscale": [
             [
              0,
              "#0d0887"
             ],
             [
              0.1111111111111111,
              "#46039f"
             ],
             [
              0.2222222222222222,
              "#7201a8"
             ],
             [
              0.3333333333333333,
              "#9c179e"
             ],
             [
              0.4444444444444444,
              "#bd3786"
             ],
             [
              0.5555555555555556,
              "#d8576b"
             ],
             [
              0.6666666666666666,
              "#ed7953"
             ],
             [
              0.7777777777777778,
              "#fb9f3a"
             ],
             [
              0.8888888888888888,
              "#fdca26"
             ],
             [
              1,
              "#f0f921"
             ]
            ],
            "type": "histogram2d"
           }
          ],
          "histogram2dcontour": [
           {
            "colorbar": {
             "outlinewidth": 0,
             "ticks": ""
            },
            "colorscale": [
             [
              0,
              "#0d0887"
             ],
             [
              0.1111111111111111,
              "#46039f"
             ],
             [
              0.2222222222222222,
              "#7201a8"
             ],
             [
              0.3333333333333333,
              "#9c179e"
             ],
             [
              0.4444444444444444,
              "#bd3786"
             ],
             [
              0.5555555555555556,
              "#d8576b"
             ],
             [
              0.6666666666666666,
              "#ed7953"
             ],
             [
              0.7777777777777778,
              "#fb9f3a"
             ],
             [
              0.8888888888888888,
              "#fdca26"
             ],
             [
              1,
              "#f0f921"
             ]
            ],
            "type": "histogram2dcontour"
           }
          ],
          "mesh3d": [
           {
            "colorbar": {
             "outlinewidth": 0,
             "ticks": ""
            },
            "type": "mesh3d"
           }
          ],
          "parcoords": [
           {
            "line": {
             "colorbar": {
              "outlinewidth": 0,
              "ticks": ""
             }
            },
            "type": "parcoords"
           }
          ],
          "pie": [
           {
            "automargin": true,
            "type": "pie"
           }
          ],
          "scatter": [
           {
            "fillpattern": {
             "fillmode": "overlay",
             "size": 10,
             "solidity": 0.2
            },
            "type": "scatter"
           }
          ],
          "scatter3d": [
           {
            "line": {
             "colorbar": {
              "outlinewidth": 0,
              "ticks": ""
             }
            },
            "marker": {
             "colorbar": {
              "outlinewidth": 0,
              "ticks": ""
             }
            },
            "type": "scatter3d"
           }
          ],
          "scattercarpet": [
           {
            "marker": {
             "colorbar": {
              "outlinewidth": 0,
              "ticks": ""
             }
            },
            "type": "scattercarpet"
           }
          ],
          "scattergeo": [
           {
            "marker": {
             "colorbar": {
              "outlinewidth": 0,
              "ticks": ""
             }
            },
            "type": "scattergeo"
           }
          ],
          "scattergl": [
           {
            "marker": {
             "colorbar": {
              "outlinewidth": 0,
              "ticks": ""
             }
            },
            "type": "scattergl"
           }
          ],
          "scattermapbox": [
           {
            "marker": {
             "colorbar": {
              "outlinewidth": 0,
              "ticks": ""
             }
            },
            "type": "scattermapbox"
           }
          ],
          "scatterpolar": [
           {
            "marker": {
             "colorbar": {
              "outlinewidth": 0,
              "ticks": ""
             }
            },
            "type": "scatterpolar"
           }
          ],
          "scatterpolargl": [
           {
            "marker": {
             "colorbar": {
              "outlinewidth": 0,
              "ticks": ""
             }
            },
            "type": "scatterpolargl"
           }
          ],
          "scatterternary": [
           {
            "marker": {
             "colorbar": {
              "outlinewidth": 0,
              "ticks": ""
             }
            },
            "type": "scatterternary"
           }
          ],
          "surface": [
           {
            "colorbar": {
             "outlinewidth": 0,
             "ticks": ""
            },
            "colorscale": [
             [
              0,
              "#0d0887"
             ],
             [
              0.1111111111111111,
              "#46039f"
             ],
             [
              0.2222222222222222,
              "#7201a8"
             ],
             [
              0.3333333333333333,
              "#9c179e"
             ],
             [
              0.4444444444444444,
              "#bd3786"
             ],
             [
              0.5555555555555556,
              "#d8576b"
             ],
             [
              0.6666666666666666,
              "#ed7953"
             ],
             [
              0.7777777777777778,
              "#fb9f3a"
             ],
             [
              0.8888888888888888,
              "#fdca26"
             ],
             [
              1,
              "#f0f921"
             ]
            ],
            "type": "surface"
           }
          ],
          "table": [
           {
            "cells": {
             "fill": {
              "color": "#EBF0F8"
             },
             "line": {
              "color": "white"
             }
            },
            "header": {
             "fill": {
              "color": "#C8D4E3"
             },
             "line": {
              "color": "white"
             }
            },
            "type": "table"
           }
          ]
         },
         "layout": {
          "annotationdefaults": {
           "arrowcolor": "#2a3f5f",
           "arrowhead": 0,
           "arrowwidth": 1
          },
          "autotypenumbers": "strict",
          "coloraxis": {
           "colorbar": {
            "outlinewidth": 0,
            "ticks": ""
           }
          },
          "colorscale": {
           "diverging": [
            [
             0,
             "#8e0152"
            ],
            [
             0.1,
             "#c51b7d"
            ],
            [
             0.2,
             "#de77ae"
            ],
            [
             0.3,
             "#f1b6da"
            ],
            [
             0.4,
             "#fde0ef"
            ],
            [
             0.5,
             "#f7f7f7"
            ],
            [
             0.6,
             "#e6f5d0"
            ],
            [
             0.7,
             "#b8e186"
            ],
            [
             0.8,
             "#7fbc41"
            ],
            [
             0.9,
             "#4d9221"
            ],
            [
             1,
             "#276419"
            ]
           ],
           "sequential": [
            [
             0,
             "#0d0887"
            ],
            [
             0.1111111111111111,
             "#46039f"
            ],
            [
             0.2222222222222222,
             "#7201a8"
            ],
            [
             0.3333333333333333,
             "#9c179e"
            ],
            [
             0.4444444444444444,
             "#bd3786"
            ],
            [
             0.5555555555555556,
             "#d8576b"
            ],
            [
             0.6666666666666666,
             "#ed7953"
            ],
            [
             0.7777777777777778,
             "#fb9f3a"
            ],
            [
             0.8888888888888888,
             "#fdca26"
            ],
            [
             1,
             "#f0f921"
            ]
           ],
           "sequentialminus": [
            [
             0,
             "#0d0887"
            ],
            [
             0.1111111111111111,
             "#46039f"
            ],
            [
             0.2222222222222222,
             "#7201a8"
            ],
            [
             0.3333333333333333,
             "#9c179e"
            ],
            [
             0.4444444444444444,
             "#bd3786"
            ],
            [
             0.5555555555555556,
             "#d8576b"
            ],
            [
             0.6666666666666666,
             "#ed7953"
            ],
            [
             0.7777777777777778,
             "#fb9f3a"
            ],
            [
             0.8888888888888888,
             "#fdca26"
            ],
            [
             1,
             "#f0f921"
            ]
           ]
          },
          "colorway": [
           "#636efa",
           "#EF553B",
           "#00cc96",
           "#ab63fa",
           "#FFA15A",
           "#19d3f3",
           "#FF6692",
           "#B6E880",
           "#FF97FF",
           "#FECB52"
          ],
          "font": {
           "color": "#2a3f5f"
          },
          "geo": {
           "bgcolor": "white",
           "lakecolor": "white",
           "landcolor": "#E5ECF6",
           "showlakes": true,
           "showland": true,
           "subunitcolor": "white"
          },
          "hoverlabel": {
           "align": "left"
          },
          "hovermode": "closest",
          "mapbox": {
           "style": "light"
          },
          "paper_bgcolor": "white",
          "plot_bgcolor": "#E5ECF6",
          "polar": {
           "angularaxis": {
            "gridcolor": "white",
            "linecolor": "white",
            "ticks": ""
           },
           "bgcolor": "#E5ECF6",
           "radialaxis": {
            "gridcolor": "white",
            "linecolor": "white",
            "ticks": ""
           }
          },
          "scene": {
           "xaxis": {
            "backgroundcolor": "#E5ECF6",
            "gridcolor": "white",
            "gridwidth": 2,
            "linecolor": "white",
            "showbackground": true,
            "ticks": "",
            "zerolinecolor": "white"
           },
           "yaxis": {
            "backgroundcolor": "#E5ECF6",
            "gridcolor": "white",
            "gridwidth": 2,
            "linecolor": "white",
            "showbackground": true,
            "ticks": "",
            "zerolinecolor": "white"
           },
           "zaxis": {
            "backgroundcolor": "#E5ECF6",
            "gridcolor": "white",
            "gridwidth": 2,
            "linecolor": "white",
            "showbackground": true,
            "ticks": "",
            "zerolinecolor": "white"
           }
          },
          "shapedefaults": {
           "line": {
            "color": "#2a3f5f"
           }
          },
          "ternary": {
           "aaxis": {
            "gridcolor": "white",
            "linecolor": "white",
            "ticks": ""
           },
           "baxis": {
            "gridcolor": "white",
            "linecolor": "white",
            "ticks": ""
           },
           "bgcolor": "#E5ECF6",
           "caxis": {
            "gridcolor": "white",
            "linecolor": "white",
            "ticks": ""
           }
          },
          "title": {
           "x": 0.05
          },
          "xaxis": {
           "automargin": true,
           "gridcolor": "white",
           "linecolor": "white",
           "ticks": "",
           "title": {
            "standoff": 15
           },
           "zerolinecolor": "white",
           "zerolinewidth": 2
          },
          "yaxis": {
           "automargin": true,
           "gridcolor": "white",
           "linecolor": "white",
           "ticks": "",
           "title": {
            "standoff": 15
           },
           "zerolinecolor": "white",
           "zerolinewidth": 2
          }
         }
        }
       }
      }
     },
     "metadata": {},
     "output_type": "display_data"
    }
   ],
   "source": [
    "graph1 = px.scatter(x = X_random[:, 0], y = X_random[:, 1], color=labels)\n",
    "graph2 = px.scatter(x = centroides[:, 0], y = centroides[:, 1], size=[5] * 5)\n",
    "graph3 = go.Figure(data = graph1.data + graph2.data)\n",
    "graph3.show()"
   ]
  },
  {
   "cell_type": "code",
   "execution_count": null,
   "metadata": {},
   "outputs": [],
   "source": []
  }
 ],
 "metadata": {
  "kernelspec": {
   "display_name": ".venv",
   "language": "python",
   "name": "python3"
  },
  "language_info": {
   "codemirror_mode": {
    "name": "ipython",
    "version": 3
   },
   "file_extension": ".py",
   "mimetype": "text/x-python",
   "name": "python",
   "nbconvert_exporter": "python",
   "pygments_lexer": "ipython3",
   "version": "3.10.12"
  },
  "orig_nbformat": 4
 },
 "nbformat": 4,
 "nbformat_minor": 2
}
